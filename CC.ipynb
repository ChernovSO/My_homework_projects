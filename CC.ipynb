{
  "cells": [
    {
      "cell_type": "markdown",
      "source": [
        "анализ активности студентов онлайн курса на платформе stepik (предсказание оттока пользователей с курса)\n",
        "\n",
        "submissions_train.csv - данные о времени и статусах сабмитов к практическим заданиям\n"
      ],
      "metadata": {
        "id": "Jioxdk6Qhphf"
      },
      "id": "Jioxdk6Qhphf"
    },
    {
      "cell_type": "code",
      "execution_count": null,
      "id": "2fae5d76",
      "metadata": {
        "id": "2fae5d76"
      },
      "outputs": [],
      "source": [
        "import pandas as pd\n",
        "import numpy as np\n",
        "from datetime import datetime"
      ]
    },
    {
      "cell_type": "code",
      "execution_count": null,
      "id": "0007b781",
      "metadata": {
        "id": "0007b781"
      },
      "outputs": [],
      "source": [
        "%matplotlib inline\n",
        "import matplotlib.pyplot as plt\n",
        "import seaborn as sns"
      ]
    },
    {
      "cell_type": "code",
      "execution_count": null,
      "id": "964b83d6",
      "metadata": {
        "id": "964b83d6"
      },
      "outputs": [],
      "source": [
        "sns.set(rc={'figure.figsize': (9, 6)}) #изменим дефолтный размер графика"
      ]
    },
    {
      "cell_type": "markdown",
      "source": [
        "Ознакомимся с форматом данных:\n",
        "\n",
        "**events_train.csv** - данные о действиях, которые совершают студенты со стэпами\n",
        "\n",
        "**step_id** - id стэпа\n",
        "\n",
        "**user_id** - анонимизированный id юзера\n",
        "\n",
        "**timestamp** - время наступления события в формате unix date\n",
        "\n",
        "**action** - событие, возможные значения:\n",
        "\n",
        "**discovered** - пользователь перешел на стэп\n",
        "\n",
        "**viewed** - просмотр шага\n",
        "\n",
        "**started_attempt** - начало попытки решить шаг, ранее нужно было явно нажать на кнопку - начать решение, перед тем как приступить к решению практического шага\n",
        "\n",
        "**passed** - удачное решение практического шага\n",
        "    \n",
        "**submissions_train.csv** - данные о времени и статусах сабмитов к практическим заданиям\n",
        "\n",
        "**step_id** - id стэпа\n",
        "\n",
        "**timestamp** - время отправки решения в формате unix date\n",
        "\n",
        "**submission_status** - статус решения\n",
        "\n",
        "**user_id** - анонимизированный id юзера"
      ],
      "metadata": {
        "id": "TkkhRF__hwTG"
      },
      "id": "TkkhRF__hwTG"
    },
    {
      "cell_type": "code",
      "execution_count": null,
      "id": "c27927bd",
      "metadata": {
        "id": "c27927bd",
        "outputId": "1046697e-621a-4d62-fee1-dec196956b8d"
      },
      "outputs": [
        {
          "data": {
            "text/html": [
              "<div>\n",
              "<style scoped>\n",
              "    .dataframe tbody tr th:only-of-type {\n",
              "        vertical-align: middle;\n",
              "    }\n",
              "\n",
              "    .dataframe tbody tr th {\n",
              "        vertical-align: top;\n",
              "    }\n",
              "\n",
              "    .dataframe thead th {\n",
              "        text-align: right;\n",
              "    }\n",
              "</style>\n",
              "<table border=\"1\" class=\"dataframe\">\n",
              "  <thead>\n",
              "    <tr style=\"text-align: right;\">\n",
              "      <th></th>\n",
              "      <th>step_id</th>\n",
              "      <th>timestamp</th>\n",
              "      <th>action</th>\n",
              "      <th>user_id</th>\n",
              "    </tr>\n",
              "  </thead>\n",
              "  <tbody>\n",
              "    <tr>\n",
              "      <th>0</th>\n",
              "      <td>32815</td>\n",
              "      <td>1434340848</td>\n",
              "      <td>viewed</td>\n",
              "      <td>17632</td>\n",
              "    </tr>\n",
              "    <tr>\n",
              "      <th>1</th>\n",
              "      <td>32815</td>\n",
              "      <td>1434340848</td>\n",
              "      <td>passed</td>\n",
              "      <td>17632</td>\n",
              "    </tr>\n",
              "    <tr>\n",
              "      <th>2</th>\n",
              "      <td>32815</td>\n",
              "      <td>1434340848</td>\n",
              "      <td>discovered</td>\n",
              "      <td>17632</td>\n",
              "    </tr>\n",
              "    <tr>\n",
              "      <th>3</th>\n",
              "      <td>32811</td>\n",
              "      <td>1434340895</td>\n",
              "      <td>discovered</td>\n",
              "      <td>17632</td>\n",
              "    </tr>\n",
              "    <tr>\n",
              "      <th>4</th>\n",
              "      <td>32811</td>\n",
              "      <td>1434340895</td>\n",
              "      <td>viewed</td>\n",
              "      <td>17632</td>\n",
              "    </tr>\n",
              "  </tbody>\n",
              "</table>\n",
              "</div>"
            ],
            "text/plain": [
              "   step_id   timestamp      action  user_id\n",
              "0    32815  1434340848      viewed    17632\n",
              "1    32815  1434340848      passed    17632\n",
              "2    32815  1434340848  discovered    17632\n",
              "3    32811  1434340895  discovered    17632\n",
              "4    32811  1434340895      viewed    17632"
            ]
          },
          "execution_count": 5,
          "metadata": {},
          "output_type": "execute_result"
        }
      ],
      "source": [
        "events_train = pd.read_csv('C:/datadata/event_data_train.csv')\n",
        "events_train.head()"
      ]
    },
    {
      "cell_type": "code",
      "execution_count": null,
      "id": "79eaa974",
      "metadata": {
        "id": "79eaa974",
        "outputId": "3907e9eb-b24c-47fe-a320-fb6f0a989b2e"
      },
      "outputs": [
        {
          "data": {
            "text/html": [
              "<div>\n",
              "<style scoped>\n",
              "    .dataframe tbody tr th:only-of-type {\n",
              "        vertical-align: middle;\n",
              "    }\n",
              "\n",
              "    .dataframe tbody tr th {\n",
              "        vertical-align: top;\n",
              "    }\n",
              "\n",
              "    .dataframe thead th {\n",
              "        text-align: right;\n",
              "    }\n",
              "</style>\n",
              "<table border=\"1\" class=\"dataframe\">\n",
              "  <thead>\n",
              "    <tr style=\"text-align: right;\">\n",
              "      <th></th>\n",
              "      <th>step_id</th>\n",
              "      <th>timestamp</th>\n",
              "      <th>submission_status</th>\n",
              "      <th>user_id</th>\n",
              "    </tr>\n",
              "  </thead>\n",
              "  <tbody>\n",
              "    <tr>\n",
              "      <th>0</th>\n",
              "      <td>31971</td>\n",
              "      <td>1434349275</td>\n",
              "      <td>correct</td>\n",
              "      <td>15853</td>\n",
              "    </tr>\n",
              "    <tr>\n",
              "      <th>1</th>\n",
              "      <td>31972</td>\n",
              "      <td>1434348300</td>\n",
              "      <td>correct</td>\n",
              "      <td>15853</td>\n",
              "    </tr>\n",
              "    <tr>\n",
              "      <th>2</th>\n",
              "      <td>31972</td>\n",
              "      <td>1478852149</td>\n",
              "      <td>wrong</td>\n",
              "      <td>15853</td>\n",
              "    </tr>\n",
              "    <tr>\n",
              "      <th>3</th>\n",
              "      <td>31972</td>\n",
              "      <td>1478852164</td>\n",
              "      <td>correct</td>\n",
              "      <td>15853</td>\n",
              "    </tr>\n",
              "    <tr>\n",
              "      <th>4</th>\n",
              "      <td>31976</td>\n",
              "      <td>1434348123</td>\n",
              "      <td>wrong</td>\n",
              "      <td>15853</td>\n",
              "    </tr>\n",
              "  </tbody>\n",
              "</table>\n",
              "</div>"
            ],
            "text/plain": [
              "   step_id   timestamp submission_status  user_id\n",
              "0    31971  1434349275           correct    15853\n",
              "1    31972  1434348300           correct    15853\n",
              "2    31972  1478852149             wrong    15853\n",
              "3    31972  1478852164           correct    15853\n",
              "4    31976  1434348123             wrong    15853"
            ]
          },
          "execution_count": 6,
          "metadata": {},
          "output_type": "execute_result"
        }
      ],
      "source": [
        "submissions_train = pd.read_csv('C:/datadata/submissions_data_train.csv')\n",
        "submissions_train.head()"
      ]
    },
    {
      "cell_type": "code",
      "execution_count": null,
      "id": "3124878d",
      "metadata": {
        "id": "3124878d",
        "outputId": "90ada70a-35d8-4d12-ed09-aee4c16529cd"
      },
      "outputs": [
        {
          "data": {
            "text/plain": [
              "array(['viewed', 'passed', 'discovered', 'started_attempt'], dtype=object)"
            ]
          },
          "execution_count": 7,
          "metadata": {},
          "output_type": "execute_result"
        }
      ],
      "source": [
        "events_train.action.unique() #посмотрим какие уникальные значения у переменной action"
      ]
    },
    {
      "cell_type": "code",
      "execution_count": null,
      "id": "b98049b2",
      "metadata": {
        "id": "b98049b2"
      },
      "outputs": [],
      "source": [
        "events_train['date'] = pd.to_datetime(events_train.timestamp, unit='s') #изменим формат timestamp для удобной работы с конкретными временными промежутками\n",
        "events_train['day'] = events_train.date.dt.date"
      ]
    },
    {
      "cell_type": "code",
      "execution_count": null,
      "id": "97629107",
      "metadata": {
        "id": "97629107"
      },
      "outputs": [],
      "source": [
        "submissions_train['date'] = pd.to_datetime(submissions_train.timestamp, unit='s')\n",
        "submissions_train['day'] = submissions_train.date.dt.date"
      ]
    },
    {
      "cell_type": "markdown",
      "source": [
        "Привычный формат времени позволит провести небольшую проверку данных на валидность."
      ],
      "metadata": {
        "id": "_0IPpGMGig0l"
      },
      "id": "_0IPpGMGig0l"
    },
    {
      "cell_type": "code",
      "execution_count": null,
      "id": "2a712f1f",
      "metadata": {
        "id": "2a712f1f",
        "outputId": "29f47d44-27fc-4eb7-ae41-1f816938dc98"
      },
      "outputs": [
        {
          "name": "stdout",
          "output_type": "stream",
          "text": [
            "2015-06-15 04:00:48 2018-05-19 23:33:31\n"
          ]
        }
      ],
      "source": [
        "print(events_train.date.min(), events_train.date.max()) # Посмотрим на минимальное и максимальное значение"
      ]
    },
    {
      "cell_type": "markdown",
      "source": [
        "Посмотрим на кол-во уникальных юзеров для каждого дня"
      ],
      "metadata": {
        "id": "M8g2vyi2ikKh"
      },
      "id": "M8g2vyi2ikKh"
    },
    {
      "cell_type": "code",
      "execution_count": null,
      "id": "a2920cc5",
      "metadata": {
        "id": "a2920cc5",
        "outputId": "1b793d90-91f0-4b61-ded4-47f792637ecc"
      },
      "outputs": [
        {
          "data": {
            "text/plain": [
              "<AxesSubplot:xlabel='day'>"
            ]
          },
          "execution_count": 11,
          "metadata": {},
          "output_type": "execute_result"
        },
        {
          "data": {
            "image/png": "[encoded data removed]",
            "text/plain": [
              "<Figure size 900x600 with 1 Axes>"
            ]
          },
          "metadata": {},
          "output_type": "display_data"
        }
      ],
      "source": [
        "events_train.groupby('day') \\\n",
        "    .user_id.nunique().plot()"
      ]
    },
    {
      "cell_type": "code",
      "execution_count": null,
      "id": "0ecf168d",
      "metadata": {
        "id": "0ecf168d"
      },
      "outputs": [],
      "source": [
        "#events_data.groupby('day').user_id.nunique().plot(figsize=(20,10))"
      ]
    },
    {
      "cell_type": "markdown",
      "source": [
        "Посчитаем для каждого пользователя количество пройденных степов и количество верных сабмитов посмотрим на эти распределения"
      ],
      "metadata": {
        "id": "N4sMD4KFimiA"
      },
      "id": "N4sMD4KFimiA"
    },
    {
      "cell_type": "code",
      "execution_count": null,
      "id": "e35b5e0e",
      "metadata": {
        "id": "e35b5e0e",
        "outputId": "bcd02392-cb80-44ae-fe67-f433af02f9d0"
      },
      "outputs": [
        {
          "data": {
            "text/plain": [
              "<AxesSubplot:>"
            ]
          },
          "execution_count": 12,
          "metadata": {},
          "output_type": "execute_result"
        },
        {
          "data": {
            "image/png": "[encoded data removed]",
            "text/plain": [
              "<Figure size 900x600 with 1 Axes>"
            ]
          },
          "metadata": {},
          "output_type": "display_data"
        }
      ],
      "source": [
        "events_train[events_train.action == 'passed'] \\\n",
        "    .groupby('user_id', as_index=False) \\\n",
        "    .aggregate({'step_id': 'count'}) \\\n",
        "    .rename(columns={'step_id': 'passed_steps'}).passed_steps.hist()"
      ]
    },
    {
      "cell_type": "markdown",
      "source": [
        "Мы получили довольно ожидаемую картину, большое кол-во пользователей которые начали курс и прошли немного шагов, с увеличением кол-во шагов кол-во пользователей падает, в правой части графика видим группу пользователей которая прошла курс до конца. Основная проблема в том что на первом этапе фильтрации мы могли потерять большое кол-во пользователей (тех что не прошел ни один степ). Т.е. нам хотелось бы учитывать и тех пользователей у которых в action нет ни одного \"passed\". Для этого воспользуемся pivot table"
      ],
      "metadata": {
        "id": "4RgLRZMsioqj"
      },
      "id": "4RgLRZMsioqj"
    },
    {
      "cell_type": "code",
      "execution_count": null,
      "id": "1a95f532",
      "metadata": {
        "id": "1a95f532",
        "outputId": "118244a7-7d48-4d28-96b5-7e4e63347c33"
      },
      "outputs": [
        {
          "data": {
            "text/html": [
              "<div>\n",
              "<style scoped>\n",
              "    .dataframe tbody tr th:only-of-type {\n",
              "        vertical-align: middle;\n",
              "    }\n",
              "\n",
              "    .dataframe tbody tr th {\n",
              "        vertical-align: top;\n",
              "    }\n",
              "\n",
              "    .dataframe thead th {\n",
              "        text-align: right;\n",
              "    }\n",
              "</style>\n",
              "<table border=\"1\" class=\"dataframe\">\n",
              "  <thead>\n",
              "    <tr style=\"text-align: right;\">\n",
              "      <th>action</th>\n",
              "      <th>user_id</th>\n",
              "      <th>discovered</th>\n",
              "      <th>passed</th>\n",
              "      <th>started_attempt</th>\n",
              "      <th>viewed</th>\n",
              "    </tr>\n",
              "  </thead>\n",
              "  <tbody>\n",
              "    <tr>\n",
              "      <th>0</th>\n",
              "      <td>1</td>\n",
              "      <td>1</td>\n",
              "      <td>0</td>\n",
              "      <td>0</td>\n",
              "      <td>1</td>\n",
              "    </tr>\n",
              "    <tr>\n",
              "      <th>1</th>\n",
              "      <td>2</td>\n",
              "      <td>9</td>\n",
              "      <td>9</td>\n",
              "      <td>2</td>\n",
              "      <td>10</td>\n",
              "    </tr>\n",
              "    <tr>\n",
              "      <th>2</th>\n",
              "      <td>3</td>\n",
              "      <td>91</td>\n",
              "      <td>87</td>\n",
              "      <td>30</td>\n",
              "      <td>192</td>\n",
              "    </tr>\n",
              "    <tr>\n",
              "      <th>3</th>\n",
              "      <td>5</td>\n",
              "      <td>11</td>\n",
              "      <td>11</td>\n",
              "      <td>4</td>\n",
              "      <td>12</td>\n",
              "    </tr>\n",
              "    <tr>\n",
              "      <th>4</th>\n",
              "      <td>7</td>\n",
              "      <td>1</td>\n",
              "      <td>1</td>\n",
              "      <td>0</td>\n",
              "      <td>1</td>\n",
              "    </tr>\n",
              "  </tbody>\n",
              "</table>\n",
              "</div>"
            ],
            "text/plain": [
              "action  user_id  discovered  passed  started_attempt  viewed\n",
              "0             1           1       0                0       1\n",
              "1             2           9       9                2      10\n",
              "2             3          91      87               30     192\n",
              "3             5          11      11                4      12\n",
              "4             7           1       1                0       1"
            ]
          },
          "execution_count": 13,
          "metadata": {},
          "output_type": "execute_result"
        }
      ],
      "source": [
        "users_events_data = events_train.pivot_table(index='user_id', columns='action', values='step_id', aggfunc='count', fill_value=0).reset_index()\n",
        "users_events_data.head()"
      ]
    },
    {
      "cell_type": "code",
      "execution_count": null,
      "id": "bb8d482f",
      "metadata": {
        "id": "bb8d482f",
        "outputId": "3363349e-93a0-4fff-fbcb-100988a52f64"
      },
      "outputs": [
        {
          "data": {
            "text/plain": [
              "<AxesSubplot:>"
            ]
          },
          "execution_count": 14,
          "metadata": {},
          "output_type": "execute_result"
        },
        {
          "data": {
            "image/png": "[encoded data removed]",
            "text/plain": [
              "<Figure size 900x600 with 1 Axes>"
            ]
          },
          "metadata": {},
          "output_type": "display_data"
        }
      ],
      "source": [
        "events_train.pivot_table(index='user_id', columns='action', values='step_id', aggfunc='count', fill_value=0).reset_index().discovered.hist()"
      ]
    },
    {
      "cell_type": "code",
      "execution_count": null,
      "id": "846bb933",
      "metadata": {
        "id": "846bb933"
      },
      "outputs": [],
      "source": [
        "users_scores = submissions_train.pivot_table(index='user_id', columns='submission_status', values='step_id', aggfunc='count', fill_value=0).reset_index()"
      ]
    },
    {
      "cell_type": "markdown",
      "source": [
        "Для дальнейшего анализа и прогнозов ухода пользователя с курса нам необходимо установить порог длительности отсутствия на курсе, после которого пользователя можно считать ушедшим. Для этого посмотрим какие временные промежутки между прохождениями степов делают пользователи."
      ],
      "metadata": {
        "id": "fEv4qTczisHy"
      },
      "id": "fEv4qTczisHy"
    },
    {
      "cell_type": "code",
      "execution_count": null,
      "id": "3b671f47",
      "metadata": {
        "id": "3b671f47",
        "outputId": "59ffd3fa-c1d3-4c5e-e305-1108d796a246"
      },
      "outputs": [
        {
          "data": {
            "text/plain": [
              "user_id\n",
              "1                                         [1472827464]\n",
              "2                             [1514383364, 1519226966]\n",
              "3    [1434358476, 1441257725, 1441440209, 144153391...\n",
              "5                             [1466156809, 1499859621]\n",
              "7                                         [1521634660]\n",
              "Name: timestamp, dtype: object"
            ]
          },
          "execution_count": 16,
          "metadata": {},
          "output_type": "execute_result"
        }
      ],
      "source": [
        "events_train[['user_id', 'day', 'timestamp']].drop_duplicates(subset=['user_id', 'day']) \\\n",
        "    .groupby('user_id')['timestamp'].apply(list).head() #отберем для каждого пользователя по одному timestamp на день, сгрупируем по пользователю. Т.е. получим для каджого пользователя список timestemp'ов дней когда он был на курсе (по одному на каждый день)."
      ]
    },
    {
      "cell_type": "code",
      "execution_count": null,
      "id": "ba4b1253",
      "metadata": {
        "id": "ba4b1253"
      },
      "outputs": [],
      "source": [
        "gap_data = events_train[['user_id', 'day', 'timestamp']].drop_duplicates(subset=['user_id', 'day']) \\\n",
        "    .groupby('user_id')['timestamp'].apply(list) \\\n",
        "    .apply(np.diff).values #теперь посмотрим разницу между двумя соседними timestamp чтобы понять сколько пользователи отсутствуют между занятиями"
      ]
    },
    {
      "cell_type": "code",
      "execution_count": null,
      "id": "2fe12bbf",
      "metadata": {
        "id": "2fe12bbf"
      },
      "outputs": [],
      "source": [
        "gap_data = pd.Series(np.concatenate(gap_data, axis=0)) #сохранили массив из промежутков между действиями всех пользователей"
      ]
    },
    {
      "cell_type": "code",
      "execution_count": null,
      "id": "0cbe1d3a",
      "metadata": {
        "id": "0cbe1d3a"
      },
      "outputs": [],
      "source": [
        "gap_data = gap_data / (24 * 60 * 60)"
      ]
    },
    {
      "cell_type": "code",
      "execution_count": null,
      "id": "806d97c3",
      "metadata": {
        "id": "806d97c3",
        "outputId": "2446b7ed-50f1-4f55-dcb8-fde7ef3fe709"
      },
      "outputs": [
        {
          "data": {
            "text/plain": [
              "<AxesSubplot:>"
            ]
          },
          "execution_count": 20,
          "metadata": {},
          "output_type": "execute_result"
        },
        {
          "data": {
            "image/png": "[encoded data removed]",
            "text/plain": [
              "<Figure size 900x600 with 1 Axes>"
            ]
          },
          "metadata": {},
          "output_type": "display_data"
        }
      ],
      "source": [
        "gap_data[gap_data < 200].hist() #нарисуем диаграмму отфильтровав слишком большие промежутки"
      ]
    },
    {
      "cell_type": "code",
      "execution_count": null,
      "id": "a9a97383",
      "metadata": {
        "id": "a9a97383",
        "outputId": "7b8806e3-e6fa-475f-d362-d2ae47698c06"
      },
      "outputs": [
        {
          "data": {
            "text/plain": [
              "18.325995370370403"
            ]
          },
          "execution_count": 21,
          "metadata": {},
          "output_type": "execute_result"
        }
      ],
      "source": [
        "gap_data.quantile(0.90) #только 10% перерывов между действиями составляет больше 18 дней."
      ]
    },
    {
      "cell_type": "markdown",
      "source": [
        "На основании сделанных выводов установим порог и разметим наши данные. "
      ],
      "metadata": {
        "id": "O9WNwoi7iuh1"
      },
      "id": "O9WNwoi7iuh1"
    },
    {
      "cell_type": "code",
      "execution_count": null,
      "id": "88974105",
      "metadata": {
        "id": "88974105",
        "outputId": "32e6bd6d-8d35-4bd8-c084-889ddf778d79"
      },
      "outputs": [
        {
          "data": {
            "text/html": [
              "<div>\n",
              "<style scoped>\n",
              "    .dataframe tbody tr th:only-of-type {\n",
              "        vertical-align: middle;\n",
              "    }\n",
              "\n",
              "    .dataframe tbody tr th {\n",
              "        vertical-align: top;\n",
              "    }\n",
              "\n",
              "    .dataframe thead th {\n",
              "        text-align: right;\n",
              "    }\n",
              "</style>\n",
              "<table border=\"1\" class=\"dataframe\">\n",
              "  <thead>\n",
              "    <tr style=\"text-align: right;\">\n",
              "      <th></th>\n",
              "      <th>step_id</th>\n",
              "      <th>timestamp</th>\n",
              "      <th>action</th>\n",
              "      <th>user_id</th>\n",
              "      <th>date</th>\n",
              "      <th>day</th>\n",
              "    </tr>\n",
              "  </thead>\n",
              "  <tbody>\n",
              "    <tr>\n",
              "      <th>3480698</th>\n",
              "      <td>33375</td>\n",
              "      <td>1526772685</td>\n",
              "      <td>viewed</td>\n",
              "      <td>11677</td>\n",
              "      <td>2018-05-19 23:31:25</td>\n",
              "      <td>2018-05-19</td>\n",
              "    </tr>\n",
              "    <tr>\n",
              "      <th>3480699</th>\n",
              "      <td>32815</td>\n",
              "      <td>1526772750</td>\n",
              "      <td>viewed</td>\n",
              "      <td>5198</td>\n",
              "      <td>2018-05-19 23:32:30</td>\n",
              "      <td>2018-05-19</td>\n",
              "    </tr>\n",
              "    <tr>\n",
              "      <th>3480700</th>\n",
              "      <td>32815</td>\n",
              "      <td>1526772750</td>\n",
              "      <td>discovered</td>\n",
              "      <td>5198</td>\n",
              "      <td>2018-05-19 23:32:30</td>\n",
              "      <td>2018-05-19</td>\n",
              "    </tr>\n",
              "    <tr>\n",
              "      <th>3480701</th>\n",
              "      <td>32815</td>\n",
              "      <td>1526772750</td>\n",
              "      <td>passed</td>\n",
              "      <td>5198</td>\n",
              "      <td>2018-05-19 23:32:30</td>\n",
              "      <td>2018-05-19</td>\n",
              "    </tr>\n",
              "    <tr>\n",
              "      <th>3480702</th>\n",
              "      <td>33892</td>\n",
              "      <td>1526772811</td>\n",
              "      <td>viewed</td>\n",
              "      <td>18526</td>\n",
              "      <td>2018-05-19 23:33:31</td>\n",
              "      <td>2018-05-19</td>\n",
              "    </tr>\n",
              "  </tbody>\n",
              "</table>\n",
              "</div>"
            ],
            "text/plain": [
              "         step_id   timestamp      action  user_id                date  \\\n",
              "3480698    33375  1526772685      viewed    11677 2018-05-19 23:31:25   \n",
              "3480699    32815  1526772750      viewed     5198 2018-05-19 23:32:30   \n",
              "3480700    32815  1526772750  discovered     5198 2018-05-19 23:32:30   \n",
              "3480701    32815  1526772750      passed     5198 2018-05-19 23:32:30   \n",
              "3480702    33892  1526772811      viewed    18526 2018-05-19 23:33:31   \n",
              "\n",
              "                day  \n",
              "3480698  2018-05-19  \n",
              "3480699  2018-05-19  \n",
              "3480700  2018-05-19  \n",
              "3480701  2018-05-19  \n",
              "3480702  2018-05-19  "
            ]
          },
          "execution_count": 22,
          "metadata": {},
          "output_type": "execute_result"
        }
      ],
      "source": [
        "events_train.tail() #будем производить отсчет от последнего наблюдения в наших данных - 1526772811"
      ]
    },
    {
      "cell_type": "code",
      "execution_count": null,
      "id": "1a628582",
      "metadata": {
        "id": "1a628582"
      },
      "outputs": [],
      "source": [
        "users_data = events_train.groupby('user_id', as_index=False) \\\n",
        "    .agg({'timestamp': 'max'}) \\\n",
        "    .rename(columns={'timestamp': 'last_timestamp'}) #сгруппируем данные по пользователю сохранив для каждого его последний timestamp "
      ]
    },
    {
      "cell_type": "code",
      "execution_count": null,
      "id": "2d8db310",
      "metadata": {
        "id": "2d8db310"
      },
      "outputs": [],
      "source": [
        "now = 1526772811\n",
        "drop_out_treshold = 2592000 #установим порог в 30дн"
      ]
    },
    {
      "cell_type": "code",
      "execution_count": null,
      "id": "e91a0de8",
      "metadata": {
        "id": "e91a0de8"
      },
      "outputs": [],
      "source": [
        "users_data['is_gone_user'] = (now - users_data.last_timestamp) > drop_out_treshold #добавим к датафрейму новую колонку по нашему условию - отсутсвие на платформе больше 30дней"
      ]
    },
    {
      "cell_type": "code",
      "execution_count": null,
      "id": "57216d77",
      "metadata": {
        "id": "57216d77",
        "outputId": "44a142a1-38fd-4fb3-c5d2-cd979237c943"
      },
      "outputs": [
        {
          "data": {
            "text/html": [
              "<div>\n",
              "<style scoped>\n",
              "    .dataframe tbody tr th:only-of-type {\n",
              "        vertical-align: middle;\n",
              "    }\n",
              "\n",
              "    .dataframe tbody tr th {\n",
              "        vertical-align: top;\n",
              "    }\n",
              "\n",
              "    .dataframe thead th {\n",
              "        text-align: right;\n",
              "    }\n",
              "</style>\n",
              "<table border=\"1\" class=\"dataframe\">\n",
              "  <thead>\n",
              "    <tr style=\"text-align: right;\">\n",
              "      <th></th>\n",
              "      <th>user_id</th>\n",
              "      <th>last_timestamp</th>\n",
              "      <th>is_gone_user</th>\n",
              "    </tr>\n",
              "  </thead>\n",
              "  <tbody>\n",
              "    <tr>\n",
              "      <th>0</th>\n",
              "      <td>1</td>\n",
              "      <td>1472827464</td>\n",
              "      <td>True</td>\n",
              "    </tr>\n",
              "    <tr>\n",
              "      <th>1</th>\n",
              "      <td>2</td>\n",
              "      <td>1519226966</td>\n",
              "      <td>True</td>\n",
              "    </tr>\n",
              "    <tr>\n",
              "      <th>2</th>\n",
              "      <td>3</td>\n",
              "      <td>1444581588</td>\n",
              "      <td>True</td>\n",
              "    </tr>\n",
              "    <tr>\n",
              "      <th>3</th>\n",
              "      <td>5</td>\n",
              "      <td>1499859939</td>\n",
              "      <td>True</td>\n",
              "    </tr>\n",
              "    <tr>\n",
              "      <th>4</th>\n",
              "      <td>7</td>\n",
              "      <td>1521634660</td>\n",
              "      <td>True</td>\n",
              "    </tr>\n",
              "  </tbody>\n",
              "</table>\n",
              "</div>"
            ],
            "text/plain": [
              "   user_id  last_timestamp  is_gone_user\n",
              "0        1      1472827464          True\n",
              "1        2      1519226966          True\n",
              "2        3      1444581588          True\n",
              "3        5      1499859939          True\n",
              "4        7      1521634660          True"
            ]
          },
          "execution_count": 28,
          "metadata": {},
          "output_type": "execute_result"
        }
      ],
      "source": [
        "users_data.head()"
      ]
    },
    {
      "cell_type": "code",
      "execution_count": null,
      "id": "f9a3f309",
      "metadata": {
        "id": "f9a3f309",
        "outputId": "cdfad428-0fa4-4f22-f9db-040d4c57443a"
      },
      "outputs": [
        {
          "data": {
            "text/html": [
              "<div>\n",
              "<style scoped>\n",
              "    .dataframe tbody tr th:only-of-type {\n",
              "        vertical-align: middle;\n",
              "    }\n",
              "\n",
              "    .dataframe tbody tr th {\n",
              "        vertical-align: top;\n",
              "    }\n",
              "\n",
              "    .dataframe thead th {\n",
              "        text-align: right;\n",
              "    }\n",
              "</style>\n",
              "<table border=\"1\" class=\"dataframe\">\n",
              "  <thead>\n",
              "    <tr style=\"text-align: right;\">\n",
              "      <th>submission_status</th>\n",
              "      <th>user_id</th>\n",
              "      <th>correct</th>\n",
              "      <th>wrong</th>\n",
              "    </tr>\n",
              "  </thead>\n",
              "  <tbody>\n",
              "    <tr>\n",
              "      <th>0</th>\n",
              "      <td>2</td>\n",
              "      <td>2</td>\n",
              "      <td>0</td>\n",
              "    </tr>\n",
              "    <tr>\n",
              "      <th>1</th>\n",
              "      <td>3</td>\n",
              "      <td>29</td>\n",
              "      <td>23</td>\n",
              "    </tr>\n",
              "    <tr>\n",
              "      <th>2</th>\n",
              "      <td>5</td>\n",
              "      <td>2</td>\n",
              "      <td>2</td>\n",
              "    </tr>\n",
              "    <tr>\n",
              "      <th>3</th>\n",
              "      <td>8</td>\n",
              "      <td>9</td>\n",
              "      <td>21</td>\n",
              "    </tr>\n",
              "    <tr>\n",
              "      <th>4</th>\n",
              "      <td>14</td>\n",
              "      <td>0</td>\n",
              "      <td>1</td>\n",
              "    </tr>\n",
              "  </tbody>\n",
              "</table>\n",
              "</div>"
            ],
            "text/plain": [
              "submission_status  user_id  correct  wrong\n",
              "0                        2        2      0\n",
              "1                        3       29     23\n",
              "2                        5        2      2\n",
              "3                        8        9     21\n",
              "4                       14        0      1"
            ]
          },
          "execution_count": 29,
          "metadata": {},
          "output_type": "execute_result"
        }
      ],
      "source": [
        "users_scores.head()"
      ]
    },
    {
      "cell_type": "code",
      "execution_count": null,
      "id": "9a000689",
      "metadata": {
        "id": "9a000689"
      },
      "outputs": [],
      "source": [
        "users_data = users_data.merge(users_scores, on='user_id', how='outer') #объединим полученные данные"
      ]
    },
    {
      "cell_type": "code",
      "execution_count": null,
      "id": "e0641624",
      "metadata": {
        "id": "e0641624",
        "outputId": "5ca88d55-b75f-4401-9818-a67b2467d0be"
      },
      "outputs": [
        {
          "data": {
            "text/html": [
              "<div>\n",
              "<style scoped>\n",
              "    .dataframe tbody tr th:only-of-type {\n",
              "        vertical-align: middle;\n",
              "    }\n",
              "\n",
              "    .dataframe tbody tr th {\n",
              "        vertical-align: top;\n",
              "    }\n",
              "\n",
              "    .dataframe thead th {\n",
              "        text-align: right;\n",
              "    }\n",
              "</style>\n",
              "<table border=\"1\" class=\"dataframe\">\n",
              "  <thead>\n",
              "    <tr style=\"text-align: right;\">\n",
              "      <th></th>\n",
              "      <th>user_id</th>\n",
              "      <th>last_timestamp</th>\n",
              "      <th>is_gone_user</th>\n",
              "      <th>correct</th>\n",
              "      <th>wrong</th>\n",
              "    </tr>\n",
              "  </thead>\n",
              "  <tbody>\n",
              "    <tr>\n",
              "      <th>0</th>\n",
              "      <td>1</td>\n",
              "      <td>1472827464</td>\n",
              "      <td>True</td>\n",
              "      <td>NaN</td>\n",
              "      <td>NaN</td>\n",
              "    </tr>\n",
              "    <tr>\n",
              "      <th>1</th>\n",
              "      <td>2</td>\n",
              "      <td>1519226966</td>\n",
              "      <td>True</td>\n",
              "      <td>2.0</td>\n",
              "      <td>0.0</td>\n",
              "    </tr>\n",
              "    <tr>\n",
              "      <th>2</th>\n",
              "      <td>3</td>\n",
              "      <td>1444581588</td>\n",
              "      <td>True</td>\n",
              "      <td>29.0</td>\n",
              "      <td>23.0</td>\n",
              "    </tr>\n",
              "    <tr>\n",
              "      <th>3</th>\n",
              "      <td>5</td>\n",
              "      <td>1499859939</td>\n",
              "      <td>True</td>\n",
              "      <td>2.0</td>\n",
              "      <td>2.0</td>\n",
              "    </tr>\n",
              "    <tr>\n",
              "      <th>4</th>\n",
              "      <td>7</td>\n",
              "      <td>1521634660</td>\n",
              "      <td>True</td>\n",
              "      <td>NaN</td>\n",
              "      <td>NaN</td>\n",
              "    </tr>\n",
              "  </tbody>\n",
              "</table>\n",
              "</div>"
            ],
            "text/plain": [
              "   user_id  last_timestamp  is_gone_user  correct  wrong\n",
              "0        1      1472827464          True      NaN    NaN\n",
              "1        2      1519226966          True      2.0    0.0\n",
              "2        3      1444581588          True     29.0   23.0\n",
              "3        5      1499859939          True      2.0    2.0\n",
              "4        7      1521634660          True      NaN    NaN"
            ]
          },
          "execution_count": 31,
          "metadata": {},
          "output_type": "execute_result"
        }
      ],
      "source": [
        "users_data.head()"
      ]
    },
    {
      "cell_type": "code",
      "execution_count": null,
      "id": "b96aec8f",
      "metadata": {
        "id": "b96aec8f"
      },
      "outputs": [],
      "source": [
        "users_data = users_data.fillna(0) #заполним пропущенные значения нулями"
      ]
    },
    {
      "cell_type": "code",
      "execution_count": null,
      "id": "7959f4f2",
      "metadata": {
        "id": "7959f4f2"
      },
      "outputs": [],
      "source": [
        "users_data = users_data.merge(users_events_data, how='outer')"
      ]
    },
    {
      "cell_type": "code",
      "execution_count": null,
      "id": "8133d21f",
      "metadata": {
        "id": "8133d21f"
      },
      "outputs": [],
      "source": [
        "users_days = events_train.groupby('user_id').day.nunique().to_frame().reset_index() #посмотрим сколько уникальных дней был на платформе каждый из пользователей"
      ]
    },
    {
      "cell_type": "code",
      "execution_count": null,
      "id": "9aff16b3",
      "metadata": {
        "id": "9aff16b3",
        "outputId": "ebdadb9c-a5aa-4214-ede0-13034c457614"
      },
      "outputs": [
        {
          "data": {
            "text/html": [
              "<div>\n",
              "<style scoped>\n",
              "    .dataframe tbody tr th:only-of-type {\n",
              "        vertical-align: middle;\n",
              "    }\n",
              "\n",
              "    .dataframe tbody tr th {\n",
              "        vertical-align: top;\n",
              "    }\n",
              "\n",
              "    .dataframe thead th {\n",
              "        text-align: right;\n",
              "    }\n",
              "</style>\n",
              "<table border=\"1\" class=\"dataframe\">\n",
              "  <thead>\n",
              "    <tr style=\"text-align: right;\">\n",
              "      <th></th>\n",
              "      <th>user_id</th>\n",
              "      <th>day</th>\n",
              "    </tr>\n",
              "  </thead>\n",
              "  <tbody>\n",
              "    <tr>\n",
              "      <th>0</th>\n",
              "      <td>1</td>\n",
              "      <td>1</td>\n",
              "    </tr>\n",
              "    <tr>\n",
              "      <th>1</th>\n",
              "      <td>2</td>\n",
              "      <td>2</td>\n",
              "    </tr>\n",
              "    <tr>\n",
              "      <th>2</th>\n",
              "      <td>3</td>\n",
              "      <td>7</td>\n",
              "    </tr>\n",
              "    <tr>\n",
              "      <th>3</th>\n",
              "      <td>5</td>\n",
              "      <td>2</td>\n",
              "    </tr>\n",
              "    <tr>\n",
              "      <th>4</th>\n",
              "      <td>7</td>\n",
              "      <td>1</td>\n",
              "    </tr>\n",
              "  </tbody>\n",
              "</table>\n",
              "</div>"
            ],
            "text/plain": [
              "   user_id  day\n",
              "0        1    1\n",
              "1        2    2\n",
              "2        3    7\n",
              "3        5    2\n",
              "4        7    1"
            ]
          },
          "execution_count": 35,
          "metadata": {},
          "output_type": "execute_result"
        }
      ],
      "source": [
        "users_days.head()"
      ]
    },
    {
      "cell_type": "code",
      "execution_count": null,
      "id": "072466f9",
      "metadata": {
        "id": "072466f9"
      },
      "outputs": [],
      "source": [
        "users_data = users_data.merge(users_days, how='outer')"
      ]
    },
    {
      "cell_type": "code",
      "execution_count": null,
      "id": "0fcdbe67",
      "metadata": {
        "id": "0fcdbe67",
        "outputId": "b411c3f4-0ab1-4f60-f75c-fe2882f29e79"
      },
      "outputs": [
        {
          "data": {
            "text/html": [
              "<div>\n",
              "<style scoped>\n",
              "    .dataframe tbody tr th:only-of-type {\n",
              "        vertical-align: middle;\n",
              "    }\n",
              "\n",
              "    .dataframe tbody tr th {\n",
              "        vertical-align: top;\n",
              "    }\n",
              "\n",
              "    .dataframe thead th {\n",
              "        text-align: right;\n",
              "    }\n",
              "</style>\n",
              "<table border=\"1\" class=\"dataframe\">\n",
              "  <thead>\n",
              "    <tr style=\"text-align: right;\">\n",
              "      <th></th>\n",
              "      <th>user_id</th>\n",
              "      <th>last_timestamp</th>\n",
              "      <th>is_gone_user</th>\n",
              "      <th>correct</th>\n",
              "      <th>wrong</th>\n",
              "      <th>discovered</th>\n",
              "      <th>passed</th>\n",
              "      <th>started_attempt</th>\n",
              "      <th>viewed</th>\n",
              "      <th>day</th>\n",
              "    </tr>\n",
              "  </thead>\n",
              "  <tbody>\n",
              "    <tr>\n",
              "      <th>0</th>\n",
              "      <td>1</td>\n",
              "      <td>1472827464</td>\n",
              "      <td>True</td>\n",
              "      <td>0.0</td>\n",
              "      <td>0.0</td>\n",
              "      <td>1</td>\n",
              "      <td>0</td>\n",
              "      <td>0</td>\n",
              "      <td>1</td>\n",
              "      <td>1</td>\n",
              "    </tr>\n",
              "    <tr>\n",
              "      <th>1</th>\n",
              "      <td>2</td>\n",
              "      <td>1519226966</td>\n",
              "      <td>True</td>\n",
              "      <td>2.0</td>\n",
              "      <td>0.0</td>\n",
              "      <td>9</td>\n",
              "      <td>9</td>\n",
              "      <td>2</td>\n",
              "      <td>10</td>\n",
              "      <td>2</td>\n",
              "    </tr>\n",
              "    <tr>\n",
              "      <th>2</th>\n",
              "      <td>3</td>\n",
              "      <td>1444581588</td>\n",
              "      <td>True</td>\n",
              "      <td>29.0</td>\n",
              "      <td>23.0</td>\n",
              "      <td>91</td>\n",
              "      <td>87</td>\n",
              "      <td>30</td>\n",
              "      <td>192</td>\n",
              "      <td>7</td>\n",
              "    </tr>\n",
              "    <tr>\n",
              "      <th>3</th>\n",
              "      <td>5</td>\n",
              "      <td>1499859939</td>\n",
              "      <td>True</td>\n",
              "      <td>2.0</td>\n",
              "      <td>2.0</td>\n",
              "      <td>11</td>\n",
              "      <td>11</td>\n",
              "      <td>4</td>\n",
              "      <td>12</td>\n",
              "      <td>2</td>\n",
              "    </tr>\n",
              "    <tr>\n",
              "      <th>4</th>\n",
              "      <td>7</td>\n",
              "      <td>1521634660</td>\n",
              "      <td>True</td>\n",
              "      <td>0.0</td>\n",
              "      <td>0.0</td>\n",
              "      <td>1</td>\n",
              "      <td>1</td>\n",
              "      <td>0</td>\n",
              "      <td>1</td>\n",
              "      <td>1</td>\n",
              "    </tr>\n",
              "  </tbody>\n",
              "</table>\n",
              "</div>"
            ],
            "text/plain": [
              "   user_id  last_timestamp  is_gone_user  correct  wrong  discovered  passed  \\\n",
              "0        1      1472827464          True      0.0    0.0           1       0   \n",
              "1        2      1519226966          True      2.0    0.0           9       9   \n",
              "2        3      1444581588          True     29.0   23.0          91      87   \n",
              "3        5      1499859939          True      2.0    2.0          11      11   \n",
              "4        7      1521634660          True      0.0    0.0           1       1   \n",
              "\n",
              "   started_attempt  viewed  day  \n",
              "0                0       1    1  \n",
              "1                2      10    2  \n",
              "2               30     192    7  \n",
              "3                4      12    2  \n",
              "4                0       1    1  "
            ]
          },
          "execution_count": 37,
          "metadata": {},
          "output_type": "execute_result"
        }
      ],
      "source": [
        "users_data.head()"
      ]
    },
    {
      "cell_type": "code",
      "execution_count": null,
      "id": "5624cbfa",
      "metadata": {
        "id": "5624cbfa"
      },
      "outputs": [],
      "source": [
        "users_data['passed_corse'] = users_data.passed > 170 #зная кол-во степов на курсе заведем еще одну переменную \"прошел пользователь курс или нет\""
      ]
    },
    {
      "cell_type": "code",
      "execution_count": null,
      "id": "3e332b89",
      "metadata": {
        "id": "3e332b89",
        "outputId": "2e736479-7cee-4200-e55b-f680edd7376f"
      },
      "outputs": [
        {
          "data": {
            "text/html": [
              "<div>\n",
              "<style scoped>\n",
              "    .dataframe tbody tr th:only-of-type {\n",
              "        vertical-align: middle;\n",
              "    }\n",
              "\n",
              "    .dataframe tbody tr th {\n",
              "        vertical-align: top;\n",
              "    }\n",
              "\n",
              "    .dataframe thead th {\n",
              "        text-align: right;\n",
              "    }\n",
              "</style>\n",
              "<table border=\"1\" class=\"dataframe\">\n",
              "  <thead>\n",
              "    <tr style=\"text-align: right;\">\n",
              "      <th></th>\n",
              "      <th>user_id</th>\n",
              "      <th>last_timestamp</th>\n",
              "      <th>is_gone_user</th>\n",
              "      <th>correct</th>\n",
              "      <th>wrong</th>\n",
              "      <th>discovered</th>\n",
              "      <th>passed</th>\n",
              "      <th>started_attempt</th>\n",
              "      <th>viewed</th>\n",
              "      <th>day</th>\n",
              "    </tr>\n",
              "    <tr>\n",
              "      <th>passed_corse</th>\n",
              "      <th></th>\n",
              "      <th></th>\n",
              "      <th></th>\n",
              "      <th></th>\n",
              "      <th></th>\n",
              "      <th></th>\n",
              "      <th></th>\n",
              "      <th></th>\n",
              "      <th></th>\n",
              "      <th></th>\n",
              "    </tr>\n",
              "  </thead>\n",
              "  <tbody>\n",
              "    <tr>\n",
              "      <th>False</th>\n",
              "      <td>17809</td>\n",
              "      <td>17809</td>\n",
              "      <td>17809</td>\n",
              "      <td>17809</td>\n",
              "      <td>17809</td>\n",
              "      <td>17809</td>\n",
              "      <td>17809</td>\n",
              "      <td>17809</td>\n",
              "      <td>17809</td>\n",
              "      <td>17809</td>\n",
              "    </tr>\n",
              "    <tr>\n",
              "      <th>True</th>\n",
              "      <td>1425</td>\n",
              "      <td>1425</td>\n",
              "      <td>1425</td>\n",
              "      <td>1425</td>\n",
              "      <td>1425</td>\n",
              "      <td>1425</td>\n",
              "      <td>1425</td>\n",
              "      <td>1425</td>\n",
              "      <td>1425</td>\n",
              "      <td>1425</td>\n",
              "    </tr>\n",
              "  </tbody>\n",
              "</table>\n",
              "</div>"
            ],
            "text/plain": [
              "              user_id  last_timestamp  is_gone_user  correct  wrong  \\\n",
              "passed_corse                                                          \n",
              "False           17809           17809         17809    17809  17809   \n",
              "True             1425            1425          1425     1425   1425   \n",
              "\n",
              "              discovered  passed  started_attempt  viewed    day  \n",
              "passed_corse                                                      \n",
              "False              17809   17809            17809   17809  17809  \n",
              "True                1425    1425             1425    1425   1425  "
            ]
          },
          "execution_count": 39,
          "metadata": {},
          "output_type": "execute_result"
        }
      ],
      "source": [
        "users_data.groupby('passed_corse').count()"
      ]
    },
    {
      "cell_type": "code",
      "execution_count": null,
      "id": "4ef462be",
      "metadata": {
        "id": "4ef462be",
        "outputId": "3181a6d0-31d9-450d-c88b-1310836dc582"
      },
      "outputs": [
        {
          "data": {
            "text/plain": [
              "20.0"
            ]
          },
          "execution_count": 40,
          "metadata": {},
          "output_type": "execute_result"
        }
      ],
      "source": [
        "users_data[users_data.passed_corse].day.median() #50% пользователей курса тратят на прохождение больше 20дн"
      ]
    },
    {
      "cell_type": "code",
      "execution_count": null,
      "id": "40503616",
      "metadata": {
        "id": "40503616",
        "outputId": "e53478b1-871a-4c30-d00a-6648037fdd38"
      },
      "outputs": [
        {
          "data": {
            "text/plain": [
              "<AxesSubplot:>"
            ]
          },
          "execution_count": 41,
          "metadata": {},
          "output_type": "execute_result"
        },
        {
          "data": {
            "image/png": "[encoded data removed]",
            "text/plain": [
              "<Figure size 900x600 with 1 Axes>"
            ]
          },
          "metadata": {},
          "output_type": "display_data"
        }
      ],
      "source": [
        "users_data[users_data.passed_corse].day.hist()"
      ]
    },
    {
      "cell_type": "markdown",
      "source": [
        "Необходимо сделать прогноз об уходе человека с курса как можно раньше, поэтому для обучения возьмем данные для каждого пользователя за первые три дня его активности"
      ],
      "metadata": {
        "id": "qH0TZc-Oi105"
      },
      "id": "qH0TZc-Oi105"
    },
    {
      "cell_type": "code",
      "execution_count": null,
      "id": "fb3c65fe",
      "metadata": {
        "id": "fb3c65fe"
      },
      "outputs": [],
      "source": [
        "user_min_time = events_train.groupby('user_id', as_index=False) \\\n",
        "    .agg({'timestamp': 'min'}) \\\n",
        "    .rename({'timestamp': 'min_timestamp'}, axis=1) #время начала курса для каждого из пользователей"
      ]
    },
    {
      "cell_type": "code",
      "execution_count": null,
      "id": "3c19a0d9",
      "metadata": {
        "id": "3c19a0d9",
        "outputId": "4e033405-438a-4d7c-9bb8-060a9a093e4f"
      },
      "outputs": [
        {
          "data": {
            "text/html": [
              "<div>\n",
              "<style scoped>\n",
              "    .dataframe tbody tr th:only-of-type {\n",
              "        vertical-align: middle;\n",
              "    }\n",
              "\n",
              "    .dataframe tbody tr th {\n",
              "        vertical-align: top;\n",
              "    }\n",
              "\n",
              "    .dataframe thead th {\n",
              "        text-align: right;\n",
              "    }\n",
              "</style>\n",
              "<table border=\"1\" class=\"dataframe\">\n",
              "  <thead>\n",
              "    <tr style=\"text-align: right;\">\n",
              "      <th></th>\n",
              "      <th>user_id</th>\n",
              "      <th>min_timestamp</th>\n",
              "    </tr>\n",
              "  </thead>\n",
              "  <tbody>\n",
              "    <tr>\n",
              "      <th>0</th>\n",
              "      <td>1</td>\n",
              "      <td>1472827464</td>\n",
              "    </tr>\n",
              "    <tr>\n",
              "      <th>1</th>\n",
              "      <td>2</td>\n",
              "      <td>1514383364</td>\n",
              "    </tr>\n",
              "    <tr>\n",
              "      <th>2</th>\n",
              "      <td>3</td>\n",
              "      <td>1434358476</td>\n",
              "    </tr>\n",
              "    <tr>\n",
              "      <th>3</th>\n",
              "      <td>5</td>\n",
              "      <td>1466156809</td>\n",
              "    </tr>\n",
              "    <tr>\n",
              "      <th>4</th>\n",
              "      <td>7</td>\n",
              "      <td>1521634660</td>\n",
              "    </tr>\n",
              "  </tbody>\n",
              "</table>\n",
              "</div>"
            ],
            "text/plain": [
              "   user_id  min_timestamp\n",
              "0        1     1472827464\n",
              "1        2     1514383364\n",
              "2        3     1434358476\n",
              "3        5     1466156809\n",
              "4        7     1521634660"
            ]
          },
          "execution_count": 43,
          "metadata": {},
          "output_type": "execute_result"
        }
      ],
      "source": [
        "user_min_time.head()"
      ]
    },
    {
      "cell_type": "code",
      "execution_count": null,
      "id": "753bbe07",
      "metadata": {
        "id": "753bbe07"
      },
      "outputs": [],
      "source": [
        "users_data = users_data.merge(user_min_time, how='outer')"
      ]
    },
    {
      "cell_type": "code",
      "execution_count": null,
      "id": "8aa0b72c",
      "metadata": {
        "id": "8aa0b72c",
        "outputId": "c43bb7c2-d3d3-4f14-bded-f053c1de5d23"
      },
      "outputs": [
        {
          "data": {
            "text/html": [
              "<div>\n",
              "<style scoped>\n",
              "    .dataframe tbody tr th:only-of-type {\n",
              "        vertical-align: middle;\n",
              "    }\n",
              "\n",
              "    .dataframe tbody tr th {\n",
              "        vertical-align: top;\n",
              "    }\n",
              "\n",
              "    .dataframe thead th {\n",
              "        text-align: right;\n",
              "    }\n",
              "</style>\n",
              "<table border=\"1\" class=\"dataframe\">\n",
              "  <thead>\n",
              "    <tr style=\"text-align: right;\">\n",
              "      <th></th>\n",
              "      <th>step_id</th>\n",
              "      <th>timestamp</th>\n",
              "      <th>action</th>\n",
              "      <th>user_id</th>\n",
              "      <th>date</th>\n",
              "      <th>day</th>\n",
              "    </tr>\n",
              "  </thead>\n",
              "  <tbody>\n",
              "    <tr>\n",
              "      <th>0</th>\n",
              "      <td>32815</td>\n",
              "      <td>1434340848</td>\n",
              "      <td>viewed</td>\n",
              "      <td>17632</td>\n",
              "      <td>2015-06-15 04:00:48</td>\n",
              "      <td>2015-06-15</td>\n",
              "    </tr>\n",
              "    <tr>\n",
              "      <th>1</th>\n",
              "      <td>32815</td>\n",
              "      <td>1434340848</td>\n",
              "      <td>passed</td>\n",
              "      <td>17632</td>\n",
              "      <td>2015-06-15 04:00:48</td>\n",
              "      <td>2015-06-15</td>\n",
              "    </tr>\n",
              "    <tr>\n",
              "      <th>2</th>\n",
              "      <td>32815</td>\n",
              "      <td>1434340848</td>\n",
              "      <td>discovered</td>\n",
              "      <td>17632</td>\n",
              "      <td>2015-06-15 04:00:48</td>\n",
              "      <td>2015-06-15</td>\n",
              "    </tr>\n",
              "    <tr>\n",
              "      <th>3</th>\n",
              "      <td>32811</td>\n",
              "      <td>1434340895</td>\n",
              "      <td>discovered</td>\n",
              "      <td>17632</td>\n",
              "      <td>2015-06-15 04:01:35</td>\n",
              "      <td>2015-06-15</td>\n",
              "    </tr>\n",
              "    <tr>\n",
              "      <th>4</th>\n",
              "      <td>32811</td>\n",
              "      <td>1434340895</td>\n",
              "      <td>viewed</td>\n",
              "      <td>17632</td>\n",
              "      <td>2015-06-15 04:01:35</td>\n",
              "      <td>2015-06-15</td>\n",
              "    </tr>\n",
              "  </tbody>\n",
              "</table>\n",
              "</div>"
            ],
            "text/plain": [
              "   step_id   timestamp      action  user_id                date         day\n",
              "0    32815  1434340848      viewed    17632 2015-06-15 04:00:48  2015-06-15\n",
              "1    32815  1434340848      passed    17632 2015-06-15 04:00:48  2015-06-15\n",
              "2    32815  1434340848  discovered    17632 2015-06-15 04:00:48  2015-06-15\n",
              "3    32811  1434340895  discovered    17632 2015-06-15 04:01:35  2015-06-15\n",
              "4    32811  1434340895      viewed    17632 2015-06-15 04:01:35  2015-06-15"
            ]
          },
          "execution_count": 45,
          "metadata": {},
          "output_type": "execute_result"
        }
      ],
      "source": [
        "events_train.head()"
      ]
    },
    {
      "cell_type": "code",
      "execution_count": null,
      "id": "e43087e9",
      "metadata": {
        "id": "e43087e9"
      },
      "outputs": [],
      "source": [
        "event_data_train = pd.DataFrame()"
      ]
    },
    {
      "cell_type": "code",
      "execution_count": null,
      "id": "01b1dc68",
      "metadata": {
        "id": "01b1dc68"
      },
      "outputs": [],
      "source": [
        "events_train['user_time'] = events_train.user_id.map(str) + '_' + events_train.timestamp.map(str) #заведем новую колонку в качестве значения которой склеим id пользователя и timestamp каждого действия"
      ]
    },
    {
      "cell_type": "code",
      "execution_count": null,
      "id": "e95b24d3",
      "metadata": {
        "id": "e95b24d3",
        "outputId": "cbfe0425-69d9-430d-8674-6e1725ae4165"
      },
      "outputs": [
        {
          "data": {
            "text/html": [
              "<div>\n",
              "<style scoped>\n",
              "    .dataframe tbody tr th:only-of-type {\n",
              "        vertical-align: middle;\n",
              "    }\n",
              "\n",
              "    .dataframe tbody tr th {\n",
              "        vertical-align: top;\n",
              "    }\n",
              "\n",
              "    .dataframe thead th {\n",
              "        text-align: right;\n",
              "    }\n",
              "</style>\n",
              "<table border=\"1\" class=\"dataframe\">\n",
              "  <thead>\n",
              "    <tr style=\"text-align: right;\">\n",
              "      <th></th>\n",
              "      <th>step_id</th>\n",
              "      <th>timestamp</th>\n",
              "      <th>action</th>\n",
              "      <th>user_id</th>\n",
              "      <th>date</th>\n",
              "      <th>day</th>\n",
              "      <th>user_time</th>\n",
              "    </tr>\n",
              "  </thead>\n",
              "  <tbody>\n",
              "    <tr>\n",
              "      <th>0</th>\n",
              "      <td>32815</td>\n",
              "      <td>1434340848</td>\n",
              "      <td>viewed</td>\n",
              "      <td>17632</td>\n",
              "      <td>2015-06-15 04:00:48</td>\n",
              "      <td>2015-06-15</td>\n",
              "      <td>17632_1434340848</td>\n",
              "    </tr>\n",
              "    <tr>\n",
              "      <th>1</th>\n",
              "      <td>32815</td>\n",
              "      <td>1434340848</td>\n",
              "      <td>passed</td>\n",
              "      <td>17632</td>\n",
              "      <td>2015-06-15 04:00:48</td>\n",
              "      <td>2015-06-15</td>\n",
              "      <td>17632_1434340848</td>\n",
              "    </tr>\n",
              "    <tr>\n",
              "      <th>2</th>\n",
              "      <td>32815</td>\n",
              "      <td>1434340848</td>\n",
              "      <td>discovered</td>\n",
              "      <td>17632</td>\n",
              "      <td>2015-06-15 04:00:48</td>\n",
              "      <td>2015-06-15</td>\n",
              "      <td>17632_1434340848</td>\n",
              "    </tr>\n",
              "    <tr>\n",
              "      <th>3</th>\n",
              "      <td>32811</td>\n",
              "      <td>1434340895</td>\n",
              "      <td>discovered</td>\n",
              "      <td>17632</td>\n",
              "      <td>2015-06-15 04:01:35</td>\n",
              "      <td>2015-06-15</td>\n",
              "      <td>17632_1434340895</td>\n",
              "    </tr>\n",
              "    <tr>\n",
              "      <th>4</th>\n",
              "      <td>32811</td>\n",
              "      <td>1434340895</td>\n",
              "      <td>viewed</td>\n",
              "      <td>17632</td>\n",
              "      <td>2015-06-15 04:01:35</td>\n",
              "      <td>2015-06-15</td>\n",
              "      <td>17632_1434340895</td>\n",
              "    </tr>\n",
              "  </tbody>\n",
              "</table>\n",
              "</div>"
            ],
            "text/plain": [
              "   step_id   timestamp      action  user_id                date         day  \\\n",
              "0    32815  1434340848      viewed    17632 2015-06-15 04:00:48  2015-06-15   \n",
              "1    32815  1434340848      passed    17632 2015-06-15 04:00:48  2015-06-15   \n",
              "2    32815  1434340848  discovered    17632 2015-06-15 04:00:48  2015-06-15   \n",
              "3    32811  1434340895  discovered    17632 2015-06-15 04:01:35  2015-06-15   \n",
              "4    32811  1434340895      viewed    17632 2015-06-15 04:01:35  2015-06-15   \n",
              "\n",
              "          user_time  \n",
              "0  17632_1434340848  \n",
              "1  17632_1434340848  \n",
              "2  17632_1434340848  \n",
              "3  17632_1434340895  \n",
              "4  17632_1434340895  "
            ]
          },
          "execution_count": 48,
          "metadata": {},
          "output_type": "execute_result"
        }
      ],
      "source": [
        "events_train.head()"
      ]
    },
    {
      "cell_type": "code",
      "execution_count": null,
      "id": "eefa76b3",
      "metadata": {
        "id": "eefa76b3",
        "outputId": "13b95e41-6e1e-483d-cf6c-ded451eaab17"
      },
      "outputs": [
        {
          "data": {
            "text/plain": [
              "259200"
            ]
          },
          "execution_count": 49,
          "metadata": {},
          "output_type": "execute_result"
        }
      ],
      "source": [
        "learning_time_threshold = 3 * 24 * 60 * 60 #порог который мы установили для данных для обучения - 3дня\n",
        "learning_time_threshold"
      ]
    },
    {
      "cell_type": "code",
      "execution_count": null,
      "id": "c363f8c4",
      "metadata": {
        "id": "c363f8c4"
      },
      "outputs": [],
      "source": [
        "user_learning_time_threshold = user_min_time.user_id.map(str) + '_' + (user_min_time.min_timestamp + learning_time_threshold).map(str) #посчитаем порог для каждого пользователя так же склеим значение с id юзера"
      ]
    },
    {
      "cell_type": "code",
      "execution_count": null,
      "id": "13030720",
      "metadata": {
        "id": "13030720"
      },
      "outputs": [],
      "source": [
        "user_min_time['user_learning_time_threshold'] = user_learning_time_threshold"
      ]
    },
    {
      "cell_type": "code",
      "execution_count": null,
      "id": "a9fa7929",
      "metadata": {
        "id": "a9fa7929"
      },
      "outputs": [],
      "source": [
        "events_train = events_train.merge(user_min_time[['user_id', 'user_learning_time_threshold']], how ='outer') "
      ]
    },
    {
      "cell_type": "code",
      "execution_count": null,
      "id": "c5ed4cff",
      "metadata": {
        "id": "c5ed4cff",
        "outputId": "d67cc1f0-741f-4d9b-f706-bf24eb8e7d46"
      },
      "outputs": [
        {
          "data": {
            "text/html": [
              "<div>\n",
              "<style scoped>\n",
              "    .dataframe tbody tr th:only-of-type {\n",
              "        vertical-align: middle;\n",
              "    }\n",
              "\n",
              "    .dataframe tbody tr th {\n",
              "        vertical-align: top;\n",
              "    }\n",
              "\n",
              "    .dataframe thead th {\n",
              "        text-align: right;\n",
              "    }\n",
              "</style>\n",
              "<table border=\"1\" class=\"dataframe\">\n",
              "  <thead>\n",
              "    <tr style=\"text-align: right;\">\n",
              "      <th></th>\n",
              "      <th>step_id</th>\n",
              "      <th>timestamp</th>\n",
              "      <th>action</th>\n",
              "      <th>user_id</th>\n",
              "      <th>date</th>\n",
              "      <th>day</th>\n",
              "      <th>user_time</th>\n",
              "      <th>user_learning_time_threshold</th>\n",
              "    </tr>\n",
              "  </thead>\n",
              "  <tbody>\n",
              "    <tr>\n",
              "      <th>0</th>\n",
              "      <td>32815</td>\n",
              "      <td>1434340848</td>\n",
              "      <td>viewed</td>\n",
              "      <td>17632</td>\n",
              "      <td>2015-06-15 04:00:48</td>\n",
              "      <td>2015-06-15</td>\n",
              "      <td>17632_1434340848</td>\n",
              "      <td>17632_1434600048</td>\n",
              "    </tr>\n",
              "    <tr>\n",
              "      <th>1</th>\n",
              "      <td>32815</td>\n",
              "      <td>1434340848</td>\n",
              "      <td>passed</td>\n",
              "      <td>17632</td>\n",
              "      <td>2015-06-15 04:00:48</td>\n",
              "      <td>2015-06-15</td>\n",
              "      <td>17632_1434340848</td>\n",
              "      <td>17632_1434600048</td>\n",
              "    </tr>\n",
              "    <tr>\n",
              "      <th>2</th>\n",
              "      <td>32815</td>\n",
              "      <td>1434340848</td>\n",
              "      <td>discovered</td>\n",
              "      <td>17632</td>\n",
              "      <td>2015-06-15 04:00:48</td>\n",
              "      <td>2015-06-15</td>\n",
              "      <td>17632_1434340848</td>\n",
              "      <td>17632_1434600048</td>\n",
              "    </tr>\n",
              "    <tr>\n",
              "      <th>3</th>\n",
              "      <td>32811</td>\n",
              "      <td>1434340895</td>\n",
              "      <td>discovered</td>\n",
              "      <td>17632</td>\n",
              "      <td>2015-06-15 04:01:35</td>\n",
              "      <td>2015-06-15</td>\n",
              "      <td>17632_1434340895</td>\n",
              "      <td>17632_1434600048</td>\n",
              "    </tr>\n",
              "    <tr>\n",
              "      <th>4</th>\n",
              "      <td>32811</td>\n",
              "      <td>1434340895</td>\n",
              "      <td>viewed</td>\n",
              "      <td>17632</td>\n",
              "      <td>2015-06-15 04:01:35</td>\n",
              "      <td>2015-06-15</td>\n",
              "      <td>17632_1434340895</td>\n",
              "      <td>17632_1434600048</td>\n",
              "    </tr>\n",
              "  </tbody>\n",
              "</table>\n",
              "</div>"
            ],
            "text/plain": [
              "   step_id   timestamp      action  user_id                date         day  \\\n",
              "0    32815  1434340848      viewed    17632 2015-06-15 04:00:48  2015-06-15   \n",
              "1    32815  1434340848      passed    17632 2015-06-15 04:00:48  2015-06-15   \n",
              "2    32815  1434340848  discovered    17632 2015-06-15 04:00:48  2015-06-15   \n",
              "3    32811  1434340895  discovered    17632 2015-06-15 04:01:35  2015-06-15   \n",
              "4    32811  1434340895      viewed    17632 2015-06-15 04:01:35  2015-06-15   \n",
              "\n",
              "          user_time user_learning_time_threshold  \n",
              "0  17632_1434340848             17632_1434600048  \n",
              "1  17632_1434340848             17632_1434600048  \n",
              "2  17632_1434340848             17632_1434600048  \n",
              "3  17632_1434340895             17632_1434600048  \n",
              "4  17632_1434340895             17632_1434600048  "
            ]
          },
          "execution_count": 53,
          "metadata": {},
          "output_type": "execute_result"
        }
      ],
      "source": [
        "events_train.head()"
      ]
    },
    {
      "cell_type": "code",
      "execution_count": null,
      "id": "70b8bbe2",
      "metadata": {
        "id": "70b8bbe2"
      },
      "outputs": [],
      "source": [
        "event_data_train = events_train[events_train.user_time <= events_train.user_learning_time_threshold] #отберем для каждого пользователя только те данные которые вписываются в его индивидуальный порог 3х дней"
      ]
    },
    {
      "cell_type": "code",
      "execution_count": null,
      "id": "4fa4e2f9",
      "metadata": {
        "id": "4fa4e2f9",
        "outputId": "97e1d63c-60b5-4c1e-e720-2370e7493268"
      },
      "outputs": [
        {
          "data": {
            "text/html": [
              "<div>\n",
              "<style scoped>\n",
              "    .dataframe tbody tr th:only-of-type {\n",
              "        vertical-align: middle;\n",
              "    }\n",
              "\n",
              "    .dataframe tbody tr th {\n",
              "        vertical-align: top;\n",
              "    }\n",
              "\n",
              "    .dataframe thead th {\n",
              "        text-align: right;\n",
              "    }\n",
              "</style>\n",
              "<table border=\"1\" class=\"dataframe\">\n",
              "  <thead>\n",
              "    <tr style=\"text-align: right;\">\n",
              "      <th></th>\n",
              "      <th>step_id</th>\n",
              "      <th>timestamp</th>\n",
              "      <th>action</th>\n",
              "      <th>user_id</th>\n",
              "      <th>date</th>\n",
              "      <th>day</th>\n",
              "      <th>user_time</th>\n",
              "      <th>user_learning_time_threshold</th>\n",
              "    </tr>\n",
              "  </thead>\n",
              "  <tbody>\n",
              "    <tr>\n",
              "      <th>0</th>\n",
              "      <td>32815</td>\n",
              "      <td>1434340848</td>\n",
              "      <td>viewed</td>\n",
              "      <td>17632</td>\n",
              "      <td>2015-06-15 04:00:48</td>\n",
              "      <td>2015-06-15</td>\n",
              "      <td>17632_1434340848</td>\n",
              "      <td>17632_1434600048</td>\n",
              "    </tr>\n",
              "    <tr>\n",
              "      <th>1</th>\n",
              "      <td>32815</td>\n",
              "      <td>1434340848</td>\n",
              "      <td>passed</td>\n",
              "      <td>17632</td>\n",
              "      <td>2015-06-15 04:00:48</td>\n",
              "      <td>2015-06-15</td>\n",
              "      <td>17632_1434340848</td>\n",
              "      <td>17632_1434600048</td>\n",
              "    </tr>\n",
              "    <tr>\n",
              "      <th>2</th>\n",
              "      <td>32815</td>\n",
              "      <td>1434340848</td>\n",
              "      <td>discovered</td>\n",
              "      <td>17632</td>\n",
              "      <td>2015-06-15 04:00:48</td>\n",
              "      <td>2015-06-15</td>\n",
              "      <td>17632_1434340848</td>\n",
              "      <td>17632_1434600048</td>\n",
              "    </tr>\n",
              "    <tr>\n",
              "      <th>3</th>\n",
              "      <td>32811</td>\n",
              "      <td>1434340895</td>\n",
              "      <td>discovered</td>\n",
              "      <td>17632</td>\n",
              "      <td>2015-06-15 04:01:35</td>\n",
              "      <td>2015-06-15</td>\n",
              "      <td>17632_1434340895</td>\n",
              "      <td>17632_1434600048</td>\n",
              "    </tr>\n",
              "    <tr>\n",
              "      <th>4</th>\n",
              "      <td>32811</td>\n",
              "      <td>1434340895</td>\n",
              "      <td>viewed</td>\n",
              "      <td>17632</td>\n",
              "      <td>2015-06-15 04:01:35</td>\n",
              "      <td>2015-06-15</td>\n",
              "      <td>17632_1434340895</td>\n",
              "      <td>17632_1434600048</td>\n",
              "    </tr>\n",
              "  </tbody>\n",
              "</table>\n",
              "</div>"
            ],
            "text/plain": [
              "   step_id   timestamp      action  user_id                date         day  \\\n",
              "0    32815  1434340848      viewed    17632 2015-06-15 04:00:48  2015-06-15   \n",
              "1    32815  1434340848      passed    17632 2015-06-15 04:00:48  2015-06-15   \n",
              "2    32815  1434340848  discovered    17632 2015-06-15 04:00:48  2015-06-15   \n",
              "3    32811  1434340895  discovered    17632 2015-06-15 04:01:35  2015-06-15   \n",
              "4    32811  1434340895      viewed    17632 2015-06-15 04:01:35  2015-06-15   \n",
              "\n",
              "          user_time user_learning_time_threshold  \n",
              "0  17632_1434340848             17632_1434600048  \n",
              "1  17632_1434340848             17632_1434600048  \n",
              "2  17632_1434340848             17632_1434600048  \n",
              "3  17632_1434340895             17632_1434600048  \n",
              "4  17632_1434340895             17632_1434600048  "
            ]
          },
          "execution_count": 55,
          "metadata": {},
          "output_type": "execute_result"
        }
      ],
      "source": [
        "event_data_train.head()"
      ]
    },
    {
      "cell_type": "markdown",
      "source": [
        "Проделаем те же операции со вторым набором данных"
      ],
      "metadata": {
        "id": "Tojcob2Ti5uJ"
      },
      "id": "Tojcob2Ti5uJ"
    },
    {
      "cell_type": "code",
      "execution_count": null,
      "id": "ed8cc6ec",
      "metadata": {
        "id": "ed8cc6ec",
        "outputId": "7d86474a-3c59-46c7-dd14-a95050455074"
      },
      "outputs": [
        {
          "data": {
            "text/plain": [
              "4"
            ]
          },
          "execution_count": 56,
          "metadata": {},
          "output_type": "execute_result"
        }
      ],
      "source": [
        "submissions_train['users_time'] = submissions_train.user_id.map(str) + '_' + submissions_train.timestamp.map(str)\n",
        "submissions_train = submissions_train.merge(user_min_time[['user_id', 'user_learning_time_threshold']], how='outer')\n",
        "submissions_data_train = submissions_train[submissions_train.users_time <= submissions_train.user_learning_time_threshold]\n",
        "submissions_data_train.groupby('user_id').day.nunique().max()"
      ]
    },
    {
      "cell_type": "code",
      "execution_count": null,
      "id": "bfc2a9f1",
      "metadata": {
        "id": "bfc2a9f1"
      },
      "outputs": [],
      "source": [
        "X = submissions_data_train.groupby('user_id').day.nunique().to_frame().reset_index() \\\n",
        "    .rename(columns={'day': 'days'}) #заведем датафрейм с необходимыми фичами, начнем с кол-ва уникальных дней у пользователя (уже в пределах порога)"
      ]
    },
    {
      "cell_type": "code",
      "execution_count": null,
      "id": "f4c5d55d",
      "metadata": {
        "id": "f4c5d55d"
      },
      "outputs": [],
      "source": [
        "steps_tried = submissions_data_train.groupby('user_id').step_id.nunique().to_frame().reset_index() \\\n",
        "    .rename(columns={'step_id': 'steps_tried'}) #посмотрим сколько у каждого пользователя было уникальных степов за 3 дня"
      ]
    },
    {
      "cell_type": "code",
      "execution_count": null,
      "id": "a6189cfe",
      "metadata": {
        "id": "a6189cfe"
      },
      "outputs": [],
      "source": [
        "X = X.merge(steps_tried, on='user_id', how='outer') "
      ]
    },
    {
      "cell_type": "markdown",
      "source": [
        "Добавим информацию о кол-ве правильных и неправильных попыток"
      ],
      "metadata": {
        "id": "FDEDk0Eji7XE"
      },
      "id": "FDEDk0Eji7XE"
    },
    {
      "cell_type": "code",
      "execution_count": null,
      "id": "be9d15b4",
      "metadata": {
        "id": "be9d15b4"
      },
      "outputs": [],
      "source": [
        "X = X.merge(submissions_data_train.pivot_table(index='user_id', columns='submission_status', values='step_id', aggfunc='count', fill_value=0).reset_index())"
      ]
    },
    {
      "cell_type": "code",
      "execution_count": null,
      "id": "a4f938a6",
      "metadata": {
        "id": "a4f938a6"
      },
      "outputs": [],
      "source": [
        "X['correct_ration'] = X.correct / (X.correct + X.wrong) "
      ]
    },
    {
      "cell_type": "code",
      "execution_count": null,
      "id": "a65ff60a",
      "metadata": {
        "id": "a65ff60a"
      },
      "outputs": [],
      "source": [
        "X = X.merge(event_data_train.pivot_table(index='user_id', columns='action', values='step_id', aggfunc='count', fill_value=0) \\\n",
        "            .reset_index()[['user_id', 'viewed']], how = 'outer') #добавим информацию о кол-ве просмотренных степов"
      ]
    },
    {
      "cell_type": "code",
      "execution_count": null,
      "id": "46b8eaa8",
      "metadata": {
        "id": "46b8eaa8"
      },
      "outputs": [],
      "source": [
        "X = X.fillna(0)"
      ]
    },
    {
      "cell_type": "code",
      "execution_count": null,
      "id": "432b00cd",
      "metadata": {
        "id": "432b00cd"
      },
      "outputs": [],
      "source": [
        "X = X.merge(users_data[['user_id', 'passed_corse', 'is_gone_user']], how='outer') "
      ]
    },
    {
      "cell_type": "code",
      "execution_count": null,
      "id": "aa9372e0",
      "metadata": {
        "id": "aa9372e0"
      },
      "outputs": [],
      "source": [
        "X = X[~((X.is_gone_user == False) & (X.passed_corse == False))] #отбросим пользователей которые начали курс, не закончили и еще не ушли с платформы"
      ]
    },
    {
      "cell_type": "markdown",
      "source": [
        "Теперь в Х у нас только те пользователи которые дропнулись с курса или прошли его"
      ],
      "metadata": {
        "id": "xlvpBHgGi-bt"
      },
      "id": "xlvpBHgGi-bt"
    },
    {
      "cell_type": "code",
      "execution_count": null,
      "id": "0a745bc0",
      "metadata": {
        "id": "0a745bc0",
        "outputId": "ceb95c8f-ef5f-4109-e97f-e6849a371b05"
      },
      "outputs": [
        {
          "data": {
            "text/plain": [
              "passed_corse  is_gone_user\n",
              "False         True            16560\n",
              "True          False             141\n",
              "              True             1284\n",
              "Name: user_id, dtype: int64"
            ]
          },
          "execution_count": 66,
          "metadata": {},
          "output_type": "execute_result"
        }
      ],
      "source": [
        "X.groupby(['passed_corse', 'is_gone_user']).user_id.count() #все кто не прошли курс являются дропнувшимися, а те кто прошли могут считаться и дропнувшимися и нет(недавно закончил курс), таким образом целевой переменной можем взять passed_corse"
      ]
    },
    {
      "cell_type": "code",
      "execution_count": null,
      "id": "e452002f",
      "metadata": {
        "id": "e452002f",
        "outputId": "806fe571-180d-4260-d5aa-6f133abb935d"
      },
      "outputs": [
        {
          "data": {
            "text/html": [
              "<div>\n",
              "<style scoped>\n",
              "    .dataframe tbody tr th:only-of-type {\n",
              "        vertical-align: middle;\n",
              "    }\n",
              "\n",
              "    .dataframe tbody tr th {\n",
              "        vertical-align: top;\n",
              "    }\n",
              "\n",
              "    .dataframe thead th {\n",
              "        text-align: right;\n",
              "    }\n",
              "</style>\n",
              "<table border=\"1\" class=\"dataframe\">\n",
              "  <thead>\n",
              "    <tr style=\"text-align: right;\">\n",
              "      <th></th>\n",
              "      <th>days</th>\n",
              "      <th>steps_tried</th>\n",
              "      <th>correct</th>\n",
              "      <th>wrong</th>\n",
              "      <th>correct_ration</th>\n",
              "      <th>viewed</th>\n",
              "      <th>passed_corse</th>\n",
              "      <th>is_gone_user</th>\n",
              "    </tr>\n",
              "    <tr>\n",
              "      <th>user_id</th>\n",
              "      <th></th>\n",
              "      <th></th>\n",
              "      <th></th>\n",
              "      <th></th>\n",
              "      <th></th>\n",
              "      <th></th>\n",
              "      <th></th>\n",
              "      <th></th>\n",
              "    </tr>\n",
              "  </thead>\n",
              "  <tbody>\n",
              "    <tr>\n",
              "      <th>2</th>\n",
              "      <td>1.0</td>\n",
              "      <td>2.0</td>\n",
              "      <td>2.0</td>\n",
              "      <td>0.0</td>\n",
              "      <td>1.00</td>\n",
              "      <td>9</td>\n",
              "      <td>False</td>\n",
              "      <td>True</td>\n",
              "    </tr>\n",
              "    <tr>\n",
              "      <th>3</th>\n",
              "      <td>1.0</td>\n",
              "      <td>4.0</td>\n",
              "      <td>4.0</td>\n",
              "      <td>4.0</td>\n",
              "      <td>0.50</td>\n",
              "      <td>20</td>\n",
              "      <td>False</td>\n",
              "      <td>True</td>\n",
              "    </tr>\n",
              "    <tr>\n",
              "      <th>8</th>\n",
              "      <td>1.0</td>\n",
              "      <td>11.0</td>\n",
              "      <td>9.0</td>\n",
              "      <td>21.0</td>\n",
              "      <td>0.30</td>\n",
              "      <td>154</td>\n",
              "      <td>False</td>\n",
              "      <td>True</td>\n",
              "    </tr>\n",
              "    <tr>\n",
              "      <th>14</th>\n",
              "      <td>1.0</td>\n",
              "      <td>1.0</td>\n",
              "      <td>0.0</td>\n",
              "      <td>1.0</td>\n",
              "      <td>0.00</td>\n",
              "      <td>9</td>\n",
              "      <td>False</td>\n",
              "      <td>True</td>\n",
              "    </tr>\n",
              "    <tr>\n",
              "      <th>16</th>\n",
              "      <td>3.0</td>\n",
              "      <td>23.0</td>\n",
              "      <td>23.0</td>\n",
              "      <td>27.0</td>\n",
              "      <td>0.46</td>\n",
              "      <td>132</td>\n",
              "      <td>True</td>\n",
              "      <td>True</td>\n",
              "    </tr>\n",
              "  </tbody>\n",
              "</table>\n",
              "</div>"
            ],
            "text/plain": [
              "         days  steps_tried  correct  wrong  correct_ration  viewed  \\\n",
              "user_id                                                              \n",
              "2         1.0          2.0      2.0    0.0            1.00       9   \n",
              "3         1.0          4.0      4.0    4.0            0.50      20   \n",
              "8         1.0         11.0      9.0   21.0            0.30     154   \n",
              "14        1.0          1.0      0.0    1.0            0.00       9   \n",
              "16        3.0         23.0     23.0   27.0            0.46     132   \n",
              "\n",
              "         passed_corse  is_gone_user  \n",
              "user_id                              \n",
              "2               False          True  \n",
              "3               False          True  \n",
              "8               False          True  \n",
              "14              False          True  \n",
              "16               True          True  "
            ]
          },
          "execution_count": 85,
          "metadata": {},
          "output_type": "execute_result"
        }
      ],
      "source": [
        "X.head()"
      ]
    },
    {
      "cell_type": "code",
      "execution_count": null,
      "id": "4a45830d",
      "metadata": {
        "id": "4a45830d"
      },
      "outputs": [],
      "source": [
        "X= X.set_index(X.user_id)\n",
        "X = X.drop('user_id', axis=1) #id пользователя не несет полезной информации для модели перенесем в индекс и дропнем "
      ]
    },
    {
      "cell_type": "code",
      "execution_count": null,
      "id": "744ae5af",
      "metadata": {
        "id": "744ae5af"
      },
      "outputs": [],
      "source": [
        "y = X.passed_corse.map(int)"
      ]
    },
    {
      "cell_type": "code",
      "execution_count": null,
      "id": "60419f6d",
      "metadata": {
        "id": "60419f6d",
        "outputId": "412a3ce0-503c-4849-df99-07f83039e6e5"
      },
      "outputs": [
        {
          "data": {
            "text/plain": [
              "user_id\n",
              "2     0\n",
              "3     0\n",
              "8     0\n",
              "14    0\n",
              "16    1\n",
              "Name: passed_corse, dtype: int64"
            ]
          },
          "execution_count": 87,
          "metadata": {},
          "output_type": "execute_result"
        }
      ],
      "source": [
        "y.head()"
      ]
    },
    {
      "cell_type": "code",
      "execution_count": null,
      "id": "59d28573",
      "metadata": {
        "id": "59d28573"
      },
      "outputs": [],
      "source": [
        "X = X.drop(['passed_corse', 'is_gone_user'], axis=1)"
      ]
    },
    {
      "cell_type": "code",
      "execution_count": null,
      "id": "8d1a3904",
      "metadata": {
        "id": "8d1a3904",
        "outputId": "4cbe7c38-9966-4c55-82b1-7033f01eb426"
      },
      "outputs": [
        {
          "data": {
            "text/html": [
              "<div>\n",
              "<style scoped>\n",
              "    .dataframe tbody tr th:only-of-type {\n",
              "        vertical-align: middle;\n",
              "    }\n",
              "\n",
              "    .dataframe tbody tr th {\n",
              "        vertical-align: top;\n",
              "    }\n",
              "\n",
              "    .dataframe thead th {\n",
              "        text-align: right;\n",
              "    }\n",
              "</style>\n",
              "<table border=\"1\" class=\"dataframe\">\n",
              "  <thead>\n",
              "    <tr style=\"text-align: right;\">\n",
              "      <th></th>\n",
              "      <th>days</th>\n",
              "      <th>steps_tried</th>\n",
              "      <th>correct</th>\n",
              "      <th>wrong</th>\n",
              "      <th>correct_ration</th>\n",
              "      <th>viewed</th>\n",
              "    </tr>\n",
              "    <tr>\n",
              "      <th>user_id</th>\n",
              "      <th></th>\n",
              "      <th></th>\n",
              "      <th></th>\n",
              "      <th></th>\n",
              "      <th></th>\n",
              "      <th></th>\n",
              "    </tr>\n",
              "  </thead>\n",
              "  <tbody>\n",
              "    <tr>\n",
              "      <th>2</th>\n",
              "      <td>1.0</td>\n",
              "      <td>2.0</td>\n",
              "      <td>2.0</td>\n",
              "      <td>0.0</td>\n",
              "      <td>1.00</td>\n",
              "      <td>9</td>\n",
              "    </tr>\n",
              "    <tr>\n",
              "      <th>3</th>\n",
              "      <td>1.0</td>\n",
              "      <td>4.0</td>\n",
              "      <td>4.0</td>\n",
              "      <td>4.0</td>\n",
              "      <td>0.50</td>\n",
              "      <td>20</td>\n",
              "    </tr>\n",
              "    <tr>\n",
              "      <th>8</th>\n",
              "      <td>1.0</td>\n",
              "      <td>11.0</td>\n",
              "      <td>9.0</td>\n",
              "      <td>21.0</td>\n",
              "      <td>0.30</td>\n",
              "      <td>154</td>\n",
              "    </tr>\n",
              "    <tr>\n",
              "      <th>14</th>\n",
              "      <td>1.0</td>\n",
              "      <td>1.0</td>\n",
              "      <td>0.0</td>\n",
              "      <td>1.0</td>\n",
              "      <td>0.00</td>\n",
              "      <td>9</td>\n",
              "    </tr>\n",
              "    <tr>\n",
              "      <th>16</th>\n",
              "      <td>3.0</td>\n",
              "      <td>23.0</td>\n",
              "      <td>23.0</td>\n",
              "      <td>27.0</td>\n",
              "      <td>0.46</td>\n",
              "      <td>132</td>\n",
              "    </tr>\n",
              "  </tbody>\n",
              "</table>\n",
              "</div>"
            ],
            "text/plain": [
              "         days  steps_tried  correct  wrong  correct_ration  viewed\n",
              "user_id                                                           \n",
              "2         1.0          2.0      2.0    0.0            1.00       9\n",
              "3         1.0          4.0      4.0    4.0            0.50      20\n",
              "8         1.0         11.0      9.0   21.0            0.30     154\n",
              "14        1.0          1.0      0.0    1.0            0.00       9\n",
              "16        3.0         23.0     23.0   27.0            0.46     132"
            ]
          },
          "execution_count": 89,
          "metadata": {},
          "output_type": "execute_result"
        }
      ],
      "source": [
        "X.head() "
      ]
    },
    {
      "cell_type": "markdown",
      "source": [
        "Посмотрим насколько наши данные информативны и подходят для обучения простой модели (логистической регрессии или дерева решений)"
      ],
      "metadata": {
        "id": "_4u5nUZ5jDRv"
      },
      "id": "_4u5nUZ5jDRv"
    },
    {
      "cell_type": "code",
      "execution_count": null,
      "id": "a3bdcd25",
      "metadata": {
        "id": "a3bdcd25",
        "outputId": "2a876001-400c-4a44-d0d9-ed8089aa8530"
      },
      "outputs": [
        {
          "name": "stdout",
          "output_type": "stream",
          "text": [
            "Score: 0.9329997219905477\n",
            "Cross_val_score: 0.9200722824576035\n",
            "f1: 0.23492063492063495\n"
          ]
        }
      ],
      "source": [
        "from sklearn.linear_model import LogisticRegressionCV\n",
        "from sklearn.model_selection import train_test_split\n",
        "from sklearn.model_selection import cross_val_score\n",
        "from sklearn.metrics import f1_score\n",
        "\n",
        "clf = LogisticRegressionCV(cv=5) \n",
        "\n",
        "X_train,X_test,y_train,y_test = train_test_split(X,y,test_size=0.2,random_state=42)\n",
        "\n",
        "clf.fit(X_train, y_train)\n",
        "print(\"Score:\", clf.score(X_test,y_test))\n",
        "print(\"Cross_val_score:\", cross_val_score(clf,X_train,y_train,cv=4).mean())\n",
        "y_pred = clf.predict(X_test)\n",
        "print(\"f1:\", f1_score(y_pred,y_test))"
      ]
    },
    {
      "cell_type": "code",
      "execution_count": null,
      "id": "2cb2f2f4",
      "metadata": {
        "id": "2cb2f2f4",
        "outputId": "6b5b3ee0-6168-4635-e84a-10f57a8fe703"
      },
      "outputs": [
        {
          "name": "stdout",
          "output_type": "stream",
          "text": [
            "Score: 0.931053655824298\n",
            "Cross_val_score: 0.9188907422852377\n",
            "f1: 0.23456790123456792\n"
          ]
        }
      ],
      "source": [
        "from sklearn.tree import DecisionTreeClassifier\n",
        "from sklearn.model_selection import GridSearchCV\n",
        "\n",
        "dt = DecisionTreeClassifier(criterion='entropy')\n",
        "parameters = {'max_depth': range(3,6), 'max_leaf_nodes':range(6,15), 'min_samples_leaf': range(1,4),'min_samples_split':range(2,5)}\n",
        "grid_search_cv_clf = GridSearchCV(dt,parameters,cv=4)\n",
        "grid_search_cv_clf.fit(X_train,y_train)\n",
        "\n",
        "model = grid_search_cv_clf.best_estimator_\n",
        "print(\"Score:\", model.score(X_test,y_test))\n",
        "print(\"Cross_val_score:\", cross_val_score(model,X_train,y_train,cv=4).mean())\n",
        "y_pred = model.predict(X_test)\n",
        "print(\"f1:\", f1_score(y_pred,y_test))"
      ]
    },
    {
      "cell_type": "markdown",
      "source": [
        "К сожалению метрики моделей оставляют желать лучшего,  мы получаем довольно большую точность из-за дисбалансировки классов, для адекватной оценки необходимо ориентироваться на f1."
      ],
      "metadata": {
        "id": "EIHvcsJ1jI85"
      },
      "id": "EIHvcsJ1jI85"
    }
  ],
  "metadata": {
    "kernelspec": {
      "display_name": "Python 3 (ipykernel)",
      "language": "python",
      "name": "python3"
    },
    "language_info": {
      "codemirror_mode": {
        "name": "ipython",
        "version": 3
      },
      "file_extension": ".py",
      "mimetype": "text/x-python",
      "name": "python",
      "nbconvert_exporter": "python",
      "pygments_lexer": "ipython3",
      "version": "3.9.13"
    },
    "colab": {
      "provenance": []
    }
  },
  "nbformat": 4,
  "nbformat_minor": 5
}