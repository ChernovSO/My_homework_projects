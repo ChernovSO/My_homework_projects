{
  "cells": [
    {
      "cell_type": "markdown",
      "source": [
        "Задача классификации изображений персонажей симпсонов https://www.kaggle.com/competitions/journey-springfield"
      ],
      "metadata": {
        "id": "thB8FtnZOnXP"
      },
      "id": "thB8FtnZOnXP"
    },
    {
      "cell_type": "code",
      "execution_count": 1,
      "id": "7d979523",
      "metadata": {
        "id": "7d979523"
      },
      "outputs": [],
      "source": [
        "import pandas as pd\n",
        "import torch\n",
        "import numpy as np\n",
        "import PIL\n",
        "from PIL import Image\n",
        "import pickle\n",
        "from skimage import io\n",
        "from tqdm import tqdm, tqdm_notebook\n",
        "from pathlib import Path\n",
        "\n",
        "from torchvision import transforms, models\n",
        "from multiprocessing.pool import ThreadPool\n",
        "from sklearn.preprocessing import LabelEncoder\n",
        "from sklearn.model_selection import train_test_split\n",
        "from torch.utils.data import Dataset, DataLoader\n",
        "import torch.nn as nn\n",
        "\n",
        "from matplotlib import colors, pyplot as plt\n",
        "import matplotlib.patches as patches\n",
        "from matplotlib.font_manager import FontProperties\n",
        "%matplotlib inline\n",
        "\n",
        "# в sklearn не все гладко, чтобы в colab удобно выводить картинки игнорируруем ошибки\n",
        "\n",
        "import warnings\n",
        "warnings.filterwarnings(action='ignore', category=DeprecationWarning)"
      ]
    },
    {
      "cell_type": "markdown",
      "source": [
        "в целях использования GPU мощностей google colab, заливаем архив с ихображениями на google диск"
      ],
      "metadata": {
        "id": "cUENMz6lPW4I"
      },
      "id": "cUENMz6lPW4I"
    },
    {
      "cell_type": "code",
      "source": [
        "from google.colab import drive\n",
        "drive.mount('/content/gdrive/')\n",
        "!unzip -q /content/gdrive/MyDrive/journey-springfield.zip"
      ],
      "metadata": {
        "colab": {
          "base_uri": "https://localhost:8080/"
        },
        "id": "aBVmZVpHRO-e",
        "outputId": "02345887-5af7-4ecf-ee02-8b336cca043c"
      },
      "id": "aBVmZVpHRO-e",
      "execution_count": 2,
      "outputs": [
        {
          "output_type": "stream",
          "name": "stdout",
          "text": [
            "Mounted at /content/gdrive/\n"
          ]
        }
      ]
    },
    {
      "cell_type": "code",
      "source": [
        "TRAIN_DIR = Path('train/simpsons_dataset')\n",
        "TEST_DIR = Path('testset/testset')\n",
        "\n",
        "train_val_files = sorted(list(TRAIN_DIR.rglob('*.jpg')))\n",
        "test_files = sorted(list(TEST_DIR.rglob('*.jpg')))"
      ],
      "metadata": {
        "id": "Spe-uoiCSR_c"
      },
      "id": "Spe-uoiCSR_c",
      "execution_count": 3,
      "outputs": []
    },
    {
      "cell_type": "markdown",
      "source": [
        "Для удобстава определим свой класс датасета с картинками, который паралельно подгружает их из папок,\n",
        "производит скалирование и превращение в торчевые тензоры\n"
      ],
      "metadata": {
        "id": "3oZf3NptPv2Y"
      },
      "id": "3oZf3NptPv2Y"
    },
    {
      "cell_type": "code",
      "execution_count": 4,
      "id": "2d7aa3b1",
      "metadata": {
        "id": "2d7aa3b1"
      },
      "outputs": [],
      "source": [
        "# разные режимы датасета \n",
        "DATA_MODES = ['train', 'val', 'test']\n",
        "# все изображения будут масштабированы к размеру 224x224 px\n",
        "RESCALE_SIZE = 224\n",
        "# работаем на видеокарте\n",
        "DEVICE = torch.device(\"cuda\")"
      ]
    },
    {
      "cell_type": "code",
      "execution_count": 11,
      "id": "bac9554c",
      "metadata": {
        "id": "bac9554c"
      },
      "outputs": [],
      "source": [
        "class SimpsonsDataset(Dataset):\n",
        "\n",
        "    def __init__(self, files, mode):\n",
        "        super().__init__()\n",
        "        # список файлов для загрузки\n",
        "        self.files = sorted(files)\n",
        "        # режим работы\n",
        "        self.mode = mode\n",
        "\n",
        "        if self.mode not in DATA_MODES:\n",
        "            print(f\"{self.mode} is not correct; correct modes: {DATA_MODES}\")\n",
        "            raise NameError\n",
        "\n",
        "        self.len_ = len(self.files)\n",
        "     \n",
        "        self.label_encoder = LabelEncoder()\n",
        "\n",
        "        if self.mode != 'test':\n",
        "            self.labels = [path.parent.name for path in self.files]\n",
        "            self.label_encoder.fit(self.labels)\n",
        "\n",
        "            with open('label_encoder.pkl', 'wb') as le_dump_file:\n",
        "                  pickle.dump(self.label_encoder, le_dump_file)\n",
        "                      \n",
        "    def __len__(self):\n",
        "        return self.len_\n",
        "      \n",
        "    def load_sample(self, file):\n",
        "        image = Image.open(file)\n",
        "        image.load()\n",
        "        return image\n",
        "  \n",
        "    def __getitem__(self, index):\n",
        "        # для преобразования изображений в тензоры PyTorch и нормализации входа\n",
        "        transform_test = transforms.Compose([\n",
        "            transforms.Resize(size=(RESCALE_SIZE, RESCALE_SIZE)),\n",
        "            transforms.ToTensor(),\n",
        "            transforms.Normalize([0.485, 0.456, 0.406], [0.229, 0.224, 0.225]) \n",
        "        ])\n",
        "        # разные траснформации для разнообразия обучающей выборки\n",
        "        transform_train = transforms.Compose([\n",
        "            transforms.Resize(size=(RESCALE_SIZE, RESCALE_SIZE)),\n",
        "            transforms.RandomHorizontalFlip(),\n",
        "            transforms.RandomVerticalFlip(),\n",
        "            transforms.RandomAdjustSharpness(sharpness_factor=2),\n",
        "            transforms.ToTensor(),\n",
        "            transforms.Normalize([0.485, 0.456, 0.406], [0.229, 0.224, 0.225]) \n",
        "        ])        \n",
        "        x = self.load_sample(self.files[index])\n",
        "        #x = self._prepare_sample(x)\n",
        "        #x = np.array(x / 255, dtype='float32')\n",
        "        w, h = x.size\n",
        "        max_wh = np.max([w, h])\n",
        "        hp = int((max_wh - w) / 2)\n",
        "        vp = int((max_wh - h) / 2)\n",
        "        padding = (hp, vp, hp, vp) #паддинг необходим, что бы при ресайзе изображение не искажалось, не теряло своих пропорций\n",
        "\n",
        "        x = transforms.functional.pad(x, padding, 0, 'constant')  \n",
        "        \n",
        "        if self.mode == 'test':\n",
        "            x = transform_test(x)\n",
        "            return x\n",
        "        else:\n",
        "            x = transform_train(x)\n",
        "            label = self.labels[index]\n",
        "            label_id = self.label_encoder.transform([label])\n",
        "            y = label_id.item()\n",
        "            return x, y\n",
        "        \n",
        "    def _prepare_sample(self, image):\n",
        "\n",
        "        image = image.resize((RESCALE_SIZE, RESCALE_SIZE))\n",
        "        return np.array(image)"
      ]
    },
    {
      "cell_type": "code",
      "execution_count": 12,
      "id": "96fad273",
      "metadata": {
        "id": "96fad273"
      },
      "outputs": [],
      "source": [
        "def imshow(inp, title=None, plt_ax=plt, default=False):\n",
        "    \"\"\"Imshow для тензоров\"\"\"\n",
        "    inp = inp.numpy().transpose((1, 2, 0))\n",
        "    mean = np.array([0.485, 0.456, 0.406])\n",
        "    std = np.array([0.229, 0.224, 0.225])\n",
        "    inp = std * inp + mean\n",
        "    inp = np.clip(inp, 0, 1)\n",
        "    plt_ax.imshow(inp)\n",
        "    if title is not None:\n",
        "        plt_ax.set_title(title)\n",
        "    plt_ax.grid(False)"
      ]
    },
    {
      "cell_type": "code",
      "execution_count": 13,
      "id": "4ca2d082",
      "metadata": {
        "id": "4ca2d082"
      },
      "outputs": [],
      "source": [
        "train_val_labels = [path.parent.name for path in train_val_files]\n",
        "train_files, val_files = train_test_split(train_val_files, test_size=0.25, \\\n",
        "                                          stratify=train_val_labels)\n",
        "train_labels = [path.parent.name for path in train_files] # классы train\n",
        "val_labels = [path.parent.name for path in val_files]     # классы val"
      ]
    },
    {
      "cell_type": "code",
      "source": [
        "train_dataset = SimpsonsDataset(train_files, mode='train')\n",
        "val_dataset = SimpsonsDataset(val_files, mode='val')"
      ],
      "metadata": {
        "id": "lLZzmbSc39Pi"
      },
      "id": "lLZzmbSc39Pi",
      "execution_count": 14,
      "outputs": []
    },
    {
      "cell_type": "markdown",
      "source": [
        "Проверим что картинки выгружаются"
      ],
      "metadata": {
        "id": "qwPLJmGRP7PQ"
      },
      "id": "qwPLJmGRP7PQ"
    },
    {
      "cell_type": "code",
      "execution_count": 15,
      "id": "de11c757",
      "metadata": {
        "colab": {
          "base_uri": "https://localhost:8080/",
          "height": 499
        },
        "id": "de11c757",
        "outputId": "64fb3150-160d-4925-856c-e525737bc308"
      },
      "outputs": [
        {
          "output_type": "display_data",
          "data": {
            "text/plain": [
              "<Figure size 576x576 with 9 Axes>"
            ],
            "image/png": "[encoded data removed]"
          },
          "metadata": {
            "needs_background": "light"
          }
        }
      ],
      "source": [
        "\n",
        "fig, ax = plt.subplots(nrows=3, ncols=3,figsize=(8, 8), \\\n",
        "                        sharey=True, sharex=True)\n",
        "for fig_x in ax.flatten():\n",
        "    random_characters = int(np.random.uniform(0,1000))\n",
        "    im_val, label = val_dataset[random_characters]\n",
        "    img_label = \" \".join(map(lambda x: x.capitalize(),\\\n",
        "                val_dataset.label_encoder.inverse_transform([label])[0].split('_')))\n",
        "    imshow(im_val.data.cpu(), \\\n",
        "          title=img_label,plt_ax=fig_x)"
      ]
    },
    {
      "cell_type": "markdown",
      "source": [
        "Определим цикл обучения"
      ],
      "metadata": {
        "id": "9wA1PP4HP-p8"
      },
      "id": "9wA1PP4HP-p8"
    },
    {
      "cell_type": "code",
      "execution_count": 10,
      "id": "9a095a7e",
      "metadata": {
        "id": "9a095a7e"
      },
      "outputs": [],
      "source": [
        "def fit_epoch(model, train_loader, criterion, optimizer):\n",
        "    running_loss = 0.0\n",
        "    running_corrects = 0\n",
        "    processed_data = 0\n",
        "    \n",
        "        \n",
        "  \n",
        "    for inputs, labels in train_loader:\n",
        "        inputs = inputs.to(DEVICE) #отправляем данные на гпу\n",
        "        labels = labels.to(DEVICE) #отправляем данные на гпу\n",
        "        optimizer.zero_grad() №обнуляем градиент\n",
        "\n",
        "        outputs = model(inputs)\n",
        "        loss = criterion(outputs, labels)\n",
        "        loss.backward() \n",
        "        optimizer.step() #обновляем веса\n",
        "        preds = torch.argmax(outputs, 1)\n",
        "        running_loss += loss.item() * inputs.size(0) \n",
        "        running_corrects += torch.sum(preds == labels.data)\n",
        "        processed_data += inputs.size(0)\n",
        "              \n",
        "    train_loss = running_loss / processed_data #считаем лос по эпохе\n",
        "    train_acc = running_corrects.cpu().numpy() / processed_data #считаем точность по эпохе\n",
        "    \n",
        "    \n",
        "    return train_loss, train_acc"
      ]
    },
    {
      "cell_type": "code",
      "execution_count": 16,
      "id": "baee66bc",
      "metadata": {
        "id": "baee66bc"
      },
      "outputs": [],
      "source": [
        "def eval_epoch(model, val_loader, criterion):\n",
        "    model.eval()\n",
        "    running_loss = 0.0\n",
        "    running_corrects = 0\n",
        "    processed_size = 0\n",
        "\n",
        "    for inputs, labels in val_loader:\n",
        "        inputs = inputs.to(DEVICE)\n",
        "        labels = labels.to(DEVICE)\n",
        "\n",
        "        with torch.set_grad_enabled(False):\n",
        "            outputs = model(inputs)\n",
        "            loss = criterion(outputs, labels)\n",
        "            preds = torch.argmax(outputs, 1)\n",
        "\n",
        "        running_loss += loss.item() * inputs.size(0)\n",
        "        running_corrects += torch.sum(preds == labels.data)\n",
        "        processed_size += inputs.size(0)\n",
        "    val_loss = running_loss / processed_size\n",
        "    val_acc = running_corrects.double() / processed_size\n",
        "    return val_loss, val_acc"
      ]
    },
    {
      "cell_type": "code",
      "execution_count": 44,
      "id": "ce5d5989",
      "metadata": {
        "id": "ce5d5989"
      },
      "outputs": [],
      "source": [
        "def train(train_files, val_files, model, opt, epochs, batch_size):\n",
        "    train_loader = DataLoader(train_dataset_oversmpl, batch_size=batch_size, shuffle=True) #train_dataset_oversmpl\n",
        "    val_loader = DataLoader(val_dataset, batch_size=batch_size, shuffle=False)\n",
        "    \n",
        "    best_model_wts = model.state_dict()\n",
        "    best_acc = 0.0\n",
        "\n",
        "    history = []\n",
        "    log_template = \"\\nEpoch {ep:03d} train_loss: {t_loss:0.4f} \\\n",
        "    val_loss {v_loss:0.4f} train_acc {t_acc:0.4f} val_acc {v_acc:0.4f}\" #вывод информации по эпохе в процессе обучения\n",
        "\n",
        "    with tqdm(desc=\"epoch\", total=epochs) as pbar_outer:\n",
        "        #opt = torch.optim.AdamW(model.parameters(), lr=1e-3, amsgrad=True)\n",
        "        criterion = nn.CrossEntropyLoss()\n",
        "\n",
        "        for epoch in range(epochs):\n",
        "            train_loss, train_acc = fit_epoch(model, train_loader, criterion, opt)\n",
        "            print(\"loss\", train_loss)\n",
        "            \n",
        "            val_loss, val_acc = eval_epoch(model, val_loader, criterion)\n",
        "            history.append((train_loss, train_acc, val_loss, val_acc))\n",
        "            \n",
        "            pbar_outer.update(1)\n",
        "            tqdm.write(log_template.format(ep=epoch+1, t_loss=train_loss,\\\n",
        "                                           v_loss=val_loss, t_acc=train_acc, v_acc=val_acc))\n",
        "            \n",
        "            if train_acc > best_acc:\n",
        "                best_acc = train_acc\n",
        "                best_model_wts = model.state_dict() #сохраняем лучшие веса модели\n",
        "                \n",
        "    model.load_state_dict(best_model_wts) #загружаем лучшие веса модели\n",
        "            \n",
        "    return history, best_model_wts"
      ]
    },
    {
      "cell_type": "code",
      "execution_count": 18,
      "id": "64828bba",
      "metadata": {
        "id": "64828bba"
      },
      "outputs": [],
      "source": [
        "def predict(model, test_loader):\n",
        "    with torch.no_grad():\n",
        "        logits = []\n",
        "    \n",
        "        for inputs in test_loader:\n",
        "            inputs = inputs.to(DEVICE)\n",
        "            model.eval()\n",
        "            outputs = model(inputs).cpu()\n",
        "            logits.append(outputs)\n",
        "            \n",
        "    probs = nn.functional.softmax(torch.cat(logits), dim=-1).numpy()\n",
        "    return probs"
      ]
    },
    {
      "cell_type": "code",
      "execution_count": 20,
      "id": "0d2b8900",
      "metadata": {
        "id": "0d2b8900"
      },
      "outputs": [],
      "source": [
        "n_classes = len(np.unique(train_val_labels))"
      ]
    },
    {
      "cell_type": "markdown",
      "source": [
        "Для решения задачи я решил взять предобученную vgg16 с батчнормом в виду простоты архитектуры."
      ],
      "metadata": {
        "id": "jdrERJl3R7VH"
      },
      "id": "jdrERJl3R7VH"
    },
    {
      "cell_type": "code",
      "source": [
        "model_vgg16_bn = models.vgg16_bn(pretrained=True)"
      ],
      "metadata": {
        "id": "97b2tV-VLgdE",
        "colab": {
          "base_uri": "https://localhost:8080/",
          "height": 156,
          "referenced_widgets": [
            "b1c77115f6bf4af68b6aaa4cd17801f8",
            "acafb69589374a7d8e0c38f145fc52d9",
            "6d21f1ac272b49ef8f040ff7f2a23818",
            "f1d2452f26de444d845e033ad700020d",
            "3207268218a74c37839d3e88fdc392ab",
            "5ea3f339bab04edfaf8721a3d75e5447",
            "7d89b2d30b154cbcb12cc5919fba325a",
            "1455ff2c29ff43f0ab2b326febd89957",
            "2a5c75fcb1634497bdcf665c91c6758c",
            "cbd385721b0d4fb1b6d1cd8b517c5a87",
            "69accb6af89246e597895c68e962ad37"
          ]
        },
        "outputId": "f136ee15-4ab1-4438-cd70-746569d04d54"
      },
      "id": "97b2tV-VLgdE",
      "execution_count": 21,
      "outputs": [
        {
          "output_type": "stream",
          "name": "stderr",
          "text": [
            "/usr/local/lib/python3.7/dist-packages/torchvision/models/_utils.py:209: UserWarning: The parameter 'pretrained' is deprecated since 0.13 and will be removed in 0.15, please use 'weights' instead.\n",
            "  f\"The parameter '{pretrained_param}' is deprecated since 0.13 and will be removed in 0.15, \"\n",
            "/usr/local/lib/python3.7/dist-packages/torchvision/models/_utils.py:223: UserWarning: Arguments other than a weight enum or `None` for 'weights' are deprecated since 0.13 and will be removed in 0.15. The current behavior is equivalent to passing `weights=VGG16_BN_Weights.IMAGENET1K_V1`. You can also use `weights=VGG16_BN_Weights.DEFAULT` to get the most up-to-date weights.\n",
            "  warnings.warn(msg)\n",
            "Downloading: \"https://download.pytorch.org/models/vgg16_bn-6c64b313.pth\" to /root/.cache/torch/hub/checkpoints/vgg16_bn-6c64b313.pth\n"
          ]
        },
        {
          "output_type": "display_data",
          "data": {
            "text/plain": [
              "  0%|          | 0.00/528M [00:00<?, ?B/s]"
            ],
            "application/vnd.jupyter.widget-view+json": {
              "version_major": 2,
              "version_minor": 0,
              "model_id": "b1c77115f6bf4af68b6aaa4cd17801f8"
            }
          },
          "metadata": {}
        }
      ]
    },
    {
      "cell_type": "markdown",
      "source": [
        "Проведем небольшой тюнинг сети под нашу задачу"
      ],
      "metadata": {
        "id": "7xo8I1yZSRa4"
      },
      "id": "7xo8I1yZSRa4"
    },
    {
      "cell_type": "code",
      "source": [
        "layers_to_unfreeze = 7 #буду обучать семь верхних слоев фичаэкстрактора\n",
        "\n",
        "for param in model_vgg16_bn.features[:-layers_to_unfreeze].parameters():\n",
        "    param.requires_grad = False\n",
        "\n",
        "num_features = 4096\n",
        "model_vgg16_bn.classifier[6] = nn.Linear(num_features, n_classes) #последний слой классификатора переделываю под кол-во классов в задаче\n",
        "\n",
        "model_vgg16_bn = model_vgg16_bn.cuda()"
      ],
      "metadata": {
        "id": "wMCuEJzQLgf3"
      },
      "id": "wMCuEJzQLgf3",
      "execution_count": 22,
      "outputs": []
    },
    {
      "cell_type": "code",
      "source": [
        "optimizer_vgg = torch.optim.AdamW(list(model_vgg16_bn.features.parameters())[-layers_to_unfreeze:] + \n",
        "                      list(model_vgg16_bn.classifier.parameters()), lr=1e-3, amsgrad=True) #зададим оптимайзер, укажем ему для каких параметров считать градиент"
      ],
      "metadata": {
        "id": "QS10AVb9Lgoc"
      },
      "id": "QS10AVb9Lgoc",
      "execution_count": 24,
      "outputs": []
    },
    {
      "cell_type": "code",
      "source": [
        "history_vgg, best_model_wts_vgg = train(train_dataset, val_dataset, model=model_vgg16_bn, opt=optimizer_vgg, epochs=10, batch_size=128) #путем проб и ошибок подобрал оптимальное кол-во эпох обучения и размер батча"
      ],
      "metadata": {
        "id": "k4Vf2JDVPCoa",
        "colab": {
          "base_uri": "https://localhost:8080/"
        },
        "outputId": "2fb0c2ea-f3fe-47c5-cc39-596d6665979f"
      },
      "id": "k4Vf2JDVPCoa",
      "execution_count": 27,
      "outputs": [
        {
          "output_type": "stream",
          "name": "stderr",
          "text": [
            "\repoch:   0%|          | 0/10 [00:00<?, ?it/s]"
          ]
        },
        {
          "output_type": "stream",
          "name": "stdout",
          "text": [
            "loss 1.9704072571718068\n"
          ]
        },
        {
          "output_type": "stream",
          "name": "stderr",
          "text": [
            "epoch:  10%|█         | 1/10 [04:35<41:19, 275.46s/it]"
          ]
        },
        {
          "output_type": "stream",
          "name": "stdout",
          "text": [
            "\n",
            "Epoch 001 train_loss: 1.9704     val_loss 1.0036 train_acc 0.4788 val_acc 0.7442\n",
            "loss 0.7463639178043096\n"
          ]
        },
        {
          "output_type": "stream",
          "name": "stderr",
          "text": [
            "epoch:  20%|██        | 2/10 [09:00<35:53, 269.23s/it]"
          ]
        },
        {
          "output_type": "stream",
          "name": "stdout",
          "text": [
            "\n",
            "Epoch 002 train_loss: 0.7464     val_loss 0.7099 train_acc 0.7998 val_acc 0.8177\n",
            "loss 0.47520123423000105\n"
          ]
        },
        {
          "output_type": "stream",
          "name": "stderr",
          "text": [
            "epoch:  30%|███       | 3/10 [13:20<30:54, 264.97s/it]"
          ]
        },
        {
          "output_type": "stream",
          "name": "stdout",
          "text": [
            "\n",
            "Epoch 003 train_loss: 0.4752     val_loss 0.5772 train_acc 0.8706 val_acc 0.8506\n",
            "loss 0.3505958763913247\n"
          ]
        },
        {
          "output_type": "stream",
          "name": "stderr",
          "text": [
            "epoch:  40%|████      | 4/10 [17:42<26:23, 263.83s/it]"
          ]
        },
        {
          "output_type": "stream",
          "name": "stdout",
          "text": [
            "\n",
            "Epoch 004 train_loss: 0.3506     val_loss 0.5473 train_acc 0.9031 val_acc 0.8536\n",
            "loss 0.2647971718681414\n"
          ]
        },
        {
          "output_type": "stream",
          "name": "stderr",
          "text": [
            "epoch:  50%|█████     | 5/10 [22:03<21:53, 262.72s/it]"
          ]
        },
        {
          "output_type": "stream",
          "name": "stdout",
          "text": [
            "\n",
            "Epoch 005 train_loss: 0.2648     val_loss 0.5467 train_acc 0.9293 val_acc 0.8645\n",
            "loss 0.20499812472898554\n"
          ]
        },
        {
          "output_type": "stream",
          "name": "stderr",
          "text": [
            "epoch:  60%|██████    | 6/10 [26:24<17:28, 262.22s/it]"
          ]
        },
        {
          "output_type": "stream",
          "name": "stdout",
          "text": [
            "\n",
            "Epoch 006 train_loss: 0.2050     val_loss 0.5337 train_acc 0.9430 val_acc 0.8750\n",
            "loss 0.16498089988878314\n"
          ]
        },
        {
          "output_type": "stream",
          "name": "stderr",
          "text": [
            "epoch:  70%|███████   | 7/10 [30:44<13:05, 261.71s/it]"
          ]
        },
        {
          "output_type": "stream",
          "name": "stdout",
          "text": [
            "\n",
            "Epoch 007 train_loss: 0.1650     val_loss 0.5183 train_acc 0.9573 val_acc 0.8808\n",
            "loss 0.11847712017068499\n"
          ]
        },
        {
          "output_type": "stream",
          "name": "stderr",
          "text": [
            "epoch:  80%|████████  | 8/10 [35:04<08:41, 260.86s/it]"
          ]
        },
        {
          "output_type": "stream",
          "name": "stdout",
          "text": [
            "\n",
            "Epoch 008 train_loss: 0.1185     val_loss 0.5255 train_acc 0.9671 val_acc 0.8787\n",
            "loss 0.10651717901954082\n"
          ]
        },
        {
          "output_type": "stream",
          "name": "stderr",
          "text": [
            "epoch:  90%|█████████ | 9/10 [39:23<04:20, 260.50s/it]"
          ]
        },
        {
          "output_type": "stream",
          "name": "stdout",
          "text": [
            "\n",
            "Epoch 009 train_loss: 0.1065     val_loss 0.5622 train_acc 0.9725 val_acc 0.8770\n",
            "loss 0.09973622467652409\n"
          ]
        },
        {
          "output_type": "stream",
          "name": "stderr",
          "text": [
            "epoch: 100%|██████████| 10/10 [43:42<00:00, 262.28s/it]"
          ]
        },
        {
          "output_type": "stream",
          "name": "stdout",
          "text": [
            "\n",
            "Epoch 010 train_loss: 0.0997     val_loss 0.5565 train_acc 0.9725 val_acc 0.8840\n"
          ]
        },
        {
          "output_type": "stream",
          "name": "stderr",
          "text": [
            "\n"
          ]
        }
      ]
    },
    {
      "cell_type": "code",
      "execution_count": 28,
      "id": "472197bd",
      "metadata": {
        "id": "472197bd"
      },
      "outputs": [],
      "source": [
        "def predict_one_sample(model, inputs, device=DEVICE):\n",
        "    \"\"\"Предсказание, для одной картинки\"\"\"\n",
        "    with torch.no_grad():\n",
        "        inputs = inputs.to(device)\n",
        "        model.eval()\n",
        "        logit = model(inputs).cpu()\n",
        "        probs = torch.nn.functional.softmax(logit, dim=-1).numpy()\n",
        "    return probs"
      ]
    },
    {
      "cell_type": "code",
      "execution_count": 49,
      "id": "efb84d01",
      "metadata": {
        "id": "efb84d01"
      },
      "outputs": [],
      "source": [
        "random_characters = int(np.random.uniform(0,1000))\n",
        "ex_img, true_label = val_dataset[random_characters] #выбираю одну случайну картинку из валидационной выборки и ее класс\n",
        "probs_im = predict_one_sample(model_vgg16_bn, ex_img.unsqueeze(0)) \n",
        "idxs = list(map(int, np.random.uniform(0,1000, 20)))\n",
        "imgs = [val_dataset[id][0].unsqueeze(0) for id in idxs] #20 изображений из валидационной выборки\n",
        "\n",
        "probs_ims = predict(model_vgg16_bn, imgs) #делаю предсказания\n",
        "label_encoder = pickle.load(open(\"label_encoder.pkl\", 'rb'))"
      ]
    },
    {
      "cell_type": "code",
      "execution_count": 50,
      "id": "d832196b",
      "metadata": {
        "id": "d832196b"
      },
      "outputs": [],
      "source": [
        "y_pred = np.argmax(probs_ims,-1)\n",
        "actual_labels = [val_dataset[id][1] for id in idxs]\n",
        "preds_class = [label_encoder.classes_[i] for i in y_pred]\n",
        "target_names = val_dataset.labels\n",
        "\n",
        "test_dataset = SimpsonsDataset(test_files, mode=\"test\")\n",
        "test_loader = DataLoader(test_dataset, shuffle=False, batch_size=64)\n",
        "\n",
        "probs = predict(model_vgg16_bn, test_loader)\n",
        "preds = label_encoder.inverse_transform(np.argmax(probs, axis=1))\n",
        "test_filenames = [path.name for path in test_dataset.files]\n",
        "\n",
        "\n",
        "\n",
        "df = pd.DataFrame() #датафрейм для сабмита\n",
        "df['Id'] = test_filenames\n",
        "df['Expected'] = preds\n",
        "df.to_csv('gdrive/MyDrive/simpsons_simple_cnn_baseline.csv', index=False)"
      ]
    },
    {
      "cell_type": "code",
      "source": [
        "from sklearn.metrics import f1_score #согласно условиям задачи модель стоит оценивать по f1_score\n",
        "f1_score(actual_labels, y_pred, average='weighted')"
      ],
      "metadata": {
        "id": "bkO8PbWaiDg1",
        "colab": {
          "base_uri": "https://localhost:8080/"
        },
        "outputId": "4bce9978-548e-419f-e275-89e2c2c5cf6b"
      },
      "id": "bkO8PbWaiDg1",
      "execution_count": 51,
      "outputs": [
        {
          "output_type": "execute_result",
          "data": {
            "text/plain": [
              "1.0"
            ]
          },
          "metadata": {},
          "execution_count": 51
        }
      ]
    },
    {
      "cell_type": "markdown",
      "source": [
        "Мы получили результаты, далее попробуем посмотреть на каких классах наша модель работает хуже всего, попытаемся понять почему"
      ],
      "metadata": {
        "id": "LCkC0X4HTN8U"
      },
      "id": "LCkC0X4HTN8U"
    },
    {
      "cell_type": "code",
      "source": [
        "import itertools\n",
        "from sklearn.metrics import confusion_matrix\n",
        "    \n",
        "# Воспользуемся функцией из документации matplotlib, выводящей confusion matrix \n",
        "# Source https://scikit-learn.org/stable/auto_examples/model_selection/plot_confusion_matrix.html    \n",
        "def plot_confusion_matrix(cm, classes,\n",
        "                          normalize=False,\n",
        "                          title='Confusion matrix',\n",
        "                          cmap=plt.cm.Blues):\n",
        "    \"\"\"\n",
        "    This function prints and plots the confusion matrix.\n",
        "    Normalization can be applied by setting `normalize=True`.\n",
        "    \"\"\"\n",
        "    cm = cm.T\n",
        "    if normalize:\n",
        "        cm = cm.astype('float') / cm.sum(axis=1)[:, np.newaxis]\n",
        "        print(\"Normalized confusion matrix\")\n",
        "    else:\n",
        "        print('Confusion matrix, without normalization')\n",
        "\n",
        "    #print(cm)\n",
        "    plt.figure(figsize=(16,11))\n",
        "    plt.imshow(cm, interpolation='nearest', cmap=cmap)\n",
        "    plt.title(title)\n",
        "    plt.colorbar()\n",
        "    tick_marks = np.arange(len(classes))\n",
        "    plt.xticks(tick_marks, classes, rotation=90)\n",
        "    plt.yticks(tick_marks, classes)\n",
        "\n",
        "    fmt = '.2f' if normalize else 'd'\n",
        "    thresh = cm.max() / 2.\n",
        "    for i, j in itertools.product(range(cm.shape[0]), range(cm.shape[1])):\n",
        "        plt.text(j, i, format(cm[i, j], fmt),\n",
        "                 horizontalalignment=\"center\",\n",
        "                 color=\"white\" if cm[i, j] > thresh else \"black\")\n",
        "\n",
        "    plt.ylabel('True label')\n",
        "    plt.xlabel('Predicted label')\n",
        "\n",
        "    plt.tight_layout()\n",
        "    \n",
        "def show_confusion_matrix_fucn(model):\n",
        "    \"\"\"Построить и посчитать точность классов по confusion matrix\"\"\"\n",
        "    y_test_all = torch.Tensor().long()\n",
        "    predictions_all = torch.Tensor().long()\n",
        "\n",
        "    # Пройдём по всему validation датасету и запишем ответы сети\n",
        "    with torch.no_grad():\n",
        "        for inputs, labels in dataloaders['val']:\n",
        "            predictions = model(inputs.to(DEVICE))\n",
        "            y_test = labels\n",
        "            _, predictions = torch.max(predictions.cpu(), 1)\n",
        "\n",
        "            # Аналог append для list\n",
        "            y_test_all = torch.cat((y_test_all, y_test), 0)\n",
        "            predictions_all = torch.cat((predictions_all, predictions), 0)\n",
        "\n",
        "    feature_names = sorted(set(dataloaders['val'].dataset.labels))\n",
        "    \n",
        "\n",
        "    y_test_all = y_test_all.numpy()\n",
        "    predictions_all = predictions_all.numpy()\n",
        "\n",
        "    # Функция из sklearn, создаёт confusion матрицу\n",
        "    #cm = confusion_matrix(y_test_all, predictions_all, np.arange(n_classes))\n",
        "    # Выведем её\n",
        "    #plot_confusion_matrix(cm, feature_names, normalize=True)\n",
        "    \n",
        "    return y_test_all, predictions_all\n",
        "  \n",
        "def accurancy_for_each_class(y_test_all, predictions_all):\n",
        "    class_correct = [0 for i in range(n_classes)]\n",
        "    class_total = [0 for i in range(n_classes)]\n",
        "    feature_names = sorted(set(dataloaders['val'].dataset.labels))\n",
        "    \n",
        "\n",
        "    c = (predictions_all == y_test_all).squeeze()\n",
        "    for i in range(len(predictions_all)):\n",
        "        label = predictions_all[i]            \n",
        "        class_correct[label] += c[i].item()\n",
        "        class_total[label] += 1\n",
        "\n",
        "    print(class_total)\n",
        "    print(len(class_total))\n",
        "\n",
        "    for i in range(n_classes):\n",
        "        print('Accuracy of %5s : %2d %%' % (\n",
        "            (feature_names[i], (100 * class_correct[i] / class_total[i]) if class_total[i] != 0 else -1)))"
      ],
      "metadata": {
        "id": "YpSvs-D0UaYt"
      },
      "id": "YpSvs-D0UaYt",
      "execution_count": 34,
      "outputs": []
    },
    {
      "cell_type": "code",
      "source": [
        "BATCH_SIZE = 128\n",
        "dataloaders = {'train': DataLoader(train_dataset, batch_size=BATCH_SIZE, shuffle=True),\n",
        "               'val': DataLoader(val_dataset, batch_size=BATCH_SIZE, shuffle=False)}\n",
        "dataset_sizes = {'train': len(train_dataset), 'val':len(val_dataset) }"
      ],
      "metadata": {
        "id": "CYwFFx65Uaa9"
      },
      "id": "CYwFFx65Uaa9",
      "execution_count": 35,
      "outputs": []
    },
    {
      "cell_type": "code",
      "source": [
        "y_test_all, predictions_all = show_confusion_matrix_fucn(model_vgg16_bn)\n",
        "accurancy_for_each_class(y_test_all, predictions_all)"
      ],
      "metadata": {
        "id": "l0uBRnrHUadg",
        "colab": {
          "base_uri": "https://localhost:8080/"
        },
        "outputId": "e0ffb9c7-322d-4ab1-ad35-46672e215e14"
      },
      "id": "l0uBRnrHUadg",
      "execution_count": 36,
      "outputs": [
        {
          "output_type": "stream",
          "name": "stdout",
          "text": [
            "[199, 10, 138, 14, 333, 29, 328, 220, 7, 122, 1, 108, 6, 0, 29, 634, 134, 297, 45, 2, 353, 18, 305, 22, 68, 289, 1, 388, 310, 119, 4, 8, 342, 14, 11, 19, 27, 223, 3, 19, 0, 35]\n",
            "42\n",
            "Accuracy of abraham_grampa_simpson : 95 %\n",
            "Accuracy of agnes_skinner : 40 %\n",
            "Accuracy of apu_nahasapeemapetilon : 98 %\n",
            "Accuracy of barney_gumble : 85 %\n",
            "Accuracy of bart_simpson : 94 %\n",
            "Accuracy of carl_carlson : 79 %\n",
            "Accuracy of charles_montgomery_burns : 84 %\n",
            "Accuracy of chief_wiggum : 97 %\n",
            "Accuracy of cletus_spuckler : 71 %\n",
            "Accuracy of comic_book_guy : 84 %\n",
            "Accuracy of disco_stu : 100 %\n",
            "Accuracy of edna_krabappel : 91 %\n",
            "Accuracy of fat_tony : 83 %\n",
            "Accuracy of   gil : -1 %\n",
            "Accuracy of groundskeeper_willie : 82 %\n",
            "Accuracy of homer_simpson : 82 %\n",
            "Accuracy of kent_brockman : 88 %\n",
            "Accuracy of krusty_the_clown : 94 %\n",
            "Accuracy of lenny_leonard : 97 %\n",
            "Accuracy of lionel_hutz : 50 %\n",
            "Accuracy of lisa_simpson : 91 %\n",
            "Accuracy of maggie_simpson : 72 %\n",
            "Accuracy of marge_simpson : 97 %\n",
            "Accuracy of martin_prince : 40 %\n",
            "Accuracy of mayor_quimby : 67 %\n",
            "Accuracy of milhouse_van_houten : 86 %\n",
            "Accuracy of miss_hoover : 100 %\n",
            "Accuracy of moe_szyslak : 85 %\n",
            "Accuracy of ned_flanders : 96 %\n",
            "Accuracy of nelson_muntz : 63 %\n",
            "Accuracy of otto_mann : 50 %\n",
            "Accuracy of patty_bouvier : 87 %\n",
            "Accuracy of principal_skinner : 83 %\n",
            "Accuracy of professor_john_frink : 71 %\n",
            "Accuracy of rainier_wolfcastle : 63 %\n",
            "Accuracy of ralph_wiggum : 89 %\n",
            "Accuracy of selma_bouvier : 74 %\n",
            "Accuracy of sideshow_bob : 94 %\n",
            "Accuracy of sideshow_mel : 100 %\n",
            "Accuracy of snake_jailbird : 47 %\n",
            "Accuracy of troy_mcclure : -1 %\n",
            "Accuracy of waylon_smithers : 85 %\n"
          ]
        }
      ]
    },
    {
      "cell_type": "markdown",
      "source": [
        "Согласно полученных результатов в задаче есть классы точность определения которых сильно ниже остальных. Первая из возможных причин - десбалансировка классов в обучающей выборке. Далее я решил попробовать оверсэмплинг как один из путей балансировки классов таким образом чтоб у каждого класса было минимум 100 экземпляров"
      ],
      "metadata": {
        "id": "249PYKivUgIH"
      },
      "id": "249PYKivUgIH"
    },
    {
      "cell_type": "code",
      "source": [
        "def create_dct_path_labels(train_files, train_labels):\n",
        "    dct_simpsons = {}\n",
        "    for label_i in np.unique(train_labels).tolist():\n",
        "        dct_simpsons[label_i] = []\n",
        "\n",
        "    for path_i, label_i in zip(train_files, train_labels):\n",
        "        dct_simpsons[label_i].append(path_i)\n",
        "\n",
        "    return dct_simpsons\n",
        "\n",
        "def print_dct(dct_simpsons):\n",
        "    for key in dct_simpsons:\n",
        "        print(f\"{key}\\t{dct_simpsons[key]}\")"
      ],
      "metadata": {
        "id": "Mp5lqJzdWbZK"
      },
      "id": "Mp5lqJzdWbZK",
      "execution_count": 37,
      "outputs": []
    },
    {
      "cell_type": "code",
      "source": [
        "dct_path_train = create_dct_path_labels(train_files, train_labels) #Создадим словарь в котором ключами будут название класса, а значениями списки с путями к изображениям"
      ],
      "metadata": {
        "id": "GWx91kFGWbbn"
      },
      "id": "GWx91kFGWbbn",
      "execution_count": 38,
      "outputs": []
    },
    {
      "cell_type": "code",
      "source": [
        "\"\"\"Дополним классы имеющие менее 100 экземпляров\"\"\"\n",
        "for person in dct_path_train:\n",
        "    if len(dct_path_train[person]) < 100:\n",
        "        dct_path_train[person] = dct_path_train[person] * (100 // len(dct_path_train[person]))\n",
        "        dct_path_train[person].extend(dct_path_train[person][:100 - len(dct_path_train[person])])"
      ],
      "metadata": {
        "id": "VQ6WavjjWbeX"
      },
      "id": "VQ6WavjjWbeX",
      "execution_count": 39,
      "outputs": []
    },
    {
      "cell_type": "code",
      "source": [
        "new_train_files = []\n",
        "\n",
        "for person in dct_path_train:\n",
        "    new_train_files.extend(dct_path_train[person])\n",
        "\n",
        "new_train_label = [path.parent.name for path in new_train_files]"
      ],
      "metadata": {
        "id": "wIaNGMkAN6JM"
      },
      "id": "wIaNGMkAN6JM",
      "execution_count": 41,
      "outputs": []
    },
    {
      "cell_type": "markdown",
      "source": [
        "Теперь переобъявим тренировочный датасет и запустим обучение заново"
      ],
      "metadata": {
        "id": "iFVcfQqPU_hB"
      },
      "id": "iFVcfQqPU_hB"
    },
    {
      "cell_type": "code",
      "source": [
        "train_dataset_oversmpl = SimpsonsDataset(new_train_files, mode='train')"
      ],
      "metadata": {
        "id": "5_qyyoCPWbhK"
      },
      "id": "5_qyyoCPWbhK",
      "execution_count": 42,
      "outputs": []
    },
    {
      "cell_type": "code",
      "source": [
        "history_vgg, best_model_wts_vgg = train(train_dataset_oversmpl, val_dataset, model=model_vgg16_bn, opt=optimizer_vgg, epochs=10, batch_size=128) "
      ],
      "metadata": {
        "id": "nrNy_ZJpWbjq",
        "colab": {
          "base_uri": "https://localhost:8080/"
        },
        "outputId": "7f49d823-ad25-447b-e25e-0b0beb029574"
      },
      "id": "nrNy_ZJpWbjq",
      "execution_count": 45,
      "outputs": [
        {
          "output_type": "stream",
          "name": "stderr",
          "text": [
            "\repoch:   0%|          | 0/10 [00:00<?, ?it/s]"
          ]
        },
        {
          "output_type": "stream",
          "name": "stdout",
          "text": [
            "loss 0.04362481835547126\n"
          ]
        },
        {
          "output_type": "stream",
          "name": "stderr",
          "text": [
            "epoch:  10%|█         | 1/10 [04:37<41:40, 277.81s/it]"
          ]
        },
        {
          "output_type": "stream",
          "name": "stdout",
          "text": [
            "\n",
            "Epoch 001 train_loss: 0.0436     val_loss 0.6328 train_acc 0.9877 val_acc 0.8919\n",
            "loss 0.051683845074439974\n"
          ]
        },
        {
          "output_type": "stream",
          "name": "stderr",
          "text": [
            "epoch:  20%|██        | 2/10 [09:15<36:59, 277.45s/it]"
          ]
        },
        {
          "output_type": "stream",
          "name": "stdout",
          "text": [
            "\n",
            "Epoch 002 train_loss: 0.0517     val_loss 0.7217 train_acc 0.9870 val_acc 0.8712\n",
            "loss 0.03956050045411239\n"
          ]
        },
        {
          "output_type": "stream",
          "name": "stderr",
          "text": [
            "epoch:  30%|███       | 3/10 [13:53<32:24, 277.85s/it]"
          ]
        },
        {
          "output_type": "stream",
          "name": "stdout",
          "text": [
            "\n",
            "Epoch 003 train_loss: 0.0396     val_loss 0.5581 train_acc 0.9899 val_acc 0.8997\n",
            "loss 0.02498908520845151\n"
          ]
        },
        {
          "output_type": "stream",
          "name": "stderr",
          "text": [
            "epoch:  40%|████      | 4/10 [18:30<27:44, 277.43s/it]"
          ]
        },
        {
          "output_type": "stream",
          "name": "stdout",
          "text": [
            "\n",
            "Epoch 004 train_loss: 0.0250     val_loss 0.6033 train_acc 0.9921 val_acc 0.8942\n",
            "loss 0.030886538901960806\n"
          ]
        },
        {
          "output_type": "stream",
          "name": "stderr",
          "text": [
            "epoch:  50%|█████     | 5/10 [23:06<23:04, 276.94s/it]"
          ]
        },
        {
          "output_type": "stream",
          "name": "stdout",
          "text": [
            "\n",
            "Epoch 005 train_loss: 0.0309     val_loss 0.6921 train_acc 0.9922 val_acc 0.8848\n",
            "loss 0.017185270806488403\n"
          ]
        },
        {
          "output_type": "stream",
          "name": "stderr",
          "text": [
            "epoch:  60%|██████    | 6/10 [27:42<18:26, 276.60s/it]"
          ]
        },
        {
          "output_type": "stream",
          "name": "stdout",
          "text": [
            "\n",
            "Epoch 006 train_loss: 0.0172     val_loss 0.6048 train_acc 0.9947 val_acc 0.8947\n",
            "loss 0.029233432335591097\n"
          ]
        },
        {
          "output_type": "stream",
          "name": "stderr",
          "text": [
            "epoch:  70%|███████   | 7/10 [32:19<13:50, 276.74s/it]"
          ]
        },
        {
          "output_type": "stream",
          "name": "stdout",
          "text": [
            "\n",
            "Epoch 007 train_loss: 0.0292     val_loss 0.5636 train_acc 0.9913 val_acc 0.9026\n",
            "loss 0.022032873590591744\n"
          ]
        },
        {
          "output_type": "stream",
          "name": "stderr",
          "text": [
            "epoch:  80%|████████  | 8/10 [36:56<09:13, 276.80s/it]"
          ]
        },
        {
          "output_type": "stream",
          "name": "stdout",
          "text": [
            "\n",
            "Epoch 008 train_loss: 0.0220     val_loss 0.6710 train_acc 0.9935 val_acc 0.8894\n",
            "loss 0.023326168803332225\n"
          ]
        },
        {
          "output_type": "stream",
          "name": "stderr",
          "text": [
            "epoch:  90%|█████████ | 9/10 [41:29<04:35, 275.66s/it]"
          ]
        },
        {
          "output_type": "stream",
          "name": "stdout",
          "text": [
            "\n",
            "Epoch 009 train_loss: 0.0233     val_loss 0.6332 train_acc 0.9925 val_acc 0.8926\n",
            "loss 0.03133911275100619\n"
          ]
        },
        {
          "output_type": "stream",
          "name": "stderr",
          "text": [
            "epoch: 100%|██████████| 10/10 [46:00<00:00, 276.03s/it]"
          ]
        },
        {
          "output_type": "stream",
          "name": "stdout",
          "text": [
            "\n",
            "Epoch 010 train_loss: 0.0313     val_loss 0.6024 train_acc 0.9918 val_acc 0.8942\n"
          ]
        },
        {
          "output_type": "stream",
          "name": "stderr",
          "text": [
            "\n"
          ]
        }
      ]
    },
    {
      "cell_type": "markdown",
      "source": [
        "Оверсэмплинг привел к незначительному улучшению качества модели"
      ],
      "metadata": {
        "id": "cXYp47T4zNCf"
      },
      "id": "cXYp47T4zNCf"
    }
  ],
  "metadata": {
    "kernelspec": {
      "display_name": "Python 3",
      "language": "python",
      "name": "python3"
    },
    "language_info": {
      "codemirror_mode": {
        "name": "ipython",
        "version": 3
      },
      "file_extension": ".py",
      "mimetype": "text/x-python",
      "name": "python",
      "nbconvert_exporter": "python",
      "pygments_lexer": "ipython3",
      "version": "3.8.8"
    },
    "colab": {
      "provenance": []
    },
    "accelerator": "GPU",
    "gpuClass": "standard",
    "widgets": {
      "application/vnd.jupyter.widget-state+json": {
        "b1c77115f6bf4af68b6aaa4cd17801f8": {
          "model_module": "@jupyter-widgets/controls",
          "model_name": "HBoxModel",
          "model_module_version": "1.5.0",
          "state": {
            "_dom_classes": [],
            "_model_module": "@jupyter-widgets/controls",
            "_model_module_version": "1.5.0",
            "_model_name": "HBoxModel",
            "_view_count": null,
            "_view_module": "@jupyter-widgets/controls",
            "_view_module_version": "1.5.0",
            "_view_name": "HBoxView",
            "box_style": "",
            "children": [
              "IPY_MODEL_acafb69589374a7d8e0c38f145fc52d9",
              "IPY_MODEL_6d21f1ac272b49ef8f040ff7f2a23818",
              "IPY_MODEL_f1d2452f26de444d845e033ad700020d"
            ],
            "layout": "IPY_MODEL_3207268218a74c37839d3e88fdc392ab"
          }
        },
        "acafb69589374a7d8e0c38f145fc52d9": {
          "model_module": "@jupyter-widgets/controls",
          "model_name": "HTMLModel",
          "model_module_version": "1.5.0",
          "state": {
            "_dom_classes": [],
            "_model_module": "@jupyter-widgets/controls",
            "_model_module_version": "1.5.0",
            "_model_name": "HTMLModel",
            "_view_count": null,
            "_view_module": "@jupyter-widgets/controls",
            "_view_module_version": "1.5.0",
            "_view_name": "HTMLView",
            "description": "",
            "description_tooltip": null,
            "layout": "IPY_MODEL_5ea3f339bab04edfaf8721a3d75e5447",
            "placeholder": "​",
            "style": "IPY_MODEL_7d89b2d30b154cbcb12cc5919fba325a",
            "value": "100%"
          }
        },
        "6d21f1ac272b49ef8f040ff7f2a23818": {
          "model_module": "@jupyter-widgets/controls",
          "model_name": "FloatProgressModel",
          "model_module_version": "1.5.0",
          "state": {
            "_dom_classes": [],
            "_model_module": "@jupyter-widgets/controls",
            "_model_module_version": "1.5.0",
            "_model_name": "FloatProgressModel",
            "_view_count": null,
            "_view_module": "@jupyter-widgets/controls",
            "_view_module_version": "1.5.0",
            "_view_name": "ProgressView",
            "bar_style": "success",
            "description": "",
            "description_tooltip": null,
            "layout": "IPY_MODEL_1455ff2c29ff43f0ab2b326febd89957",
            "max": 553507836,
            "min": 0,
            "orientation": "horizontal",
            "style": "IPY_MODEL_2a5c75fcb1634497bdcf665c91c6758c",
            "value": 553507836
          }
        },
        "f1d2452f26de444d845e033ad700020d": {
          "model_module": "@jupyter-widgets/controls",
          "model_name": "HTMLModel",
          "model_module_version": "1.5.0",
          "state": {
            "_dom_classes": [],
            "_model_module": "@jupyter-widgets/controls",
            "_model_module_version": "1.5.0",
            "_model_name": "HTMLModel",
            "_view_count": null,
            "_view_module": "@jupyter-widgets/controls",
            "_view_module_version": "1.5.0",
            "_view_name": "HTMLView",
            "description": "",
            "description_tooltip": null,
            "layout": "IPY_MODEL_cbd385721b0d4fb1b6d1cd8b517c5a87",
            "placeholder": "​",
            "style": "IPY_MODEL_69accb6af89246e597895c68e962ad37",
            "value": " 528M/528M [00:11&lt;00:00, 58.1MB/s]"
          }
        },
        "3207268218a74c37839d3e88fdc392ab": {
          "model_module": "@jupyter-widgets/base",
          "model_name": "LayoutModel",
          "model_module_version": "1.2.0",
          "state": {
            "_model_module": "@jupyter-widgets/base",
            "_model_module_version": "1.2.0",
            "_model_name": "LayoutModel",
            "_view_count": null,
            "_view_module": "@jupyter-widgets/base",
            "_view_module_version": "1.2.0",
            "_view_name": "LayoutView",
            "align_content": null,
            "align_items": null,
            "align_self": null,
            "border": null,
            "bottom": null,
            "display": null,
            "flex": null,
            "flex_flow": null,
            "grid_area": null,
            "grid_auto_columns": null,
            "grid_auto_flow": null,
            "grid_auto_rows": null,
            "grid_column": null,
            "grid_gap": null,
            "grid_row": null,
            "grid_template_areas": null,
            "grid_template_columns": null,
            "grid_template_rows": null,
            "height": null,
            "justify_content": null,
            "justify_items": null,
            "left": null,
            "margin": null,
            "max_height": null,
            "max_width": null,
            "min_height": null,
            "min_width": null,
            "object_fit": null,
            "object_position": null,
            "order": null,
            "overflow": null,
            "overflow_x": null,
            "overflow_y": null,
            "padding": null,
            "right": null,
            "top": null,
            "visibility": null,
            "width": null
          }
        },
        "5ea3f339bab04edfaf8721a3d75e5447": {
          "model_module": "@jupyter-widgets/base",
          "model_name": "LayoutModel",
          "model_module_version": "1.2.0",
          "state": {
            "_model_module": "@jupyter-widgets/base",
            "_model_module_version": "1.2.0",
            "_model_name": "LayoutModel",
            "_view_count": null,
            "_view_module": "@jupyter-widgets/base",
            "_view_module_version": "1.2.0",
            "_view_name": "LayoutView",
            "align_content": null,
            "align_items": null,
            "align_self": null,
            "border": null,
            "bottom": null,
            "display": null,
            "flex": null,
            "flex_flow": null,
            "grid_area": null,
            "grid_auto_columns": null,
            "grid_auto_flow": null,
            "grid_auto_rows": null,
            "grid_column": null,
            "grid_gap": null,
            "grid_row": null,
            "grid_template_areas": null,
            "grid_template_columns": null,
            "grid_template_rows": null,
            "height": null,
            "justify_content": null,
            "justify_items": null,
            "left": null,
            "margin": null,
            "max_height": null,
            "max_width": null,
            "min_height": null,
            "min_width": null,
            "object_fit": null,
            "object_position": null,
            "order": null,
            "overflow": null,
            "overflow_x": null,
            "overflow_y": null,
            "padding": null,
            "right": null,
            "top": null,
            "visibility": null,
            "width": null
          }
        },
        "7d89b2d30b154cbcb12cc5919fba325a": {
          "model_module": "@jupyter-widgets/controls",
          "model_name": "DescriptionStyleModel",
          "model_module_version": "1.5.0",
          "state": {
            "_model_module": "@jupyter-widgets/controls",
            "_model_module_version": "1.5.0",
            "_model_name": "DescriptionStyleModel",
            "_view_count": null,
            "_view_module": "@jupyter-widgets/base",
            "_view_module_version": "1.2.0",
            "_view_name": "StyleView",
            "description_width": ""
          }
        },
        "1455ff2c29ff43f0ab2b326febd89957": {
          "model_module": "@jupyter-widgets/base",
          "model_name": "LayoutModel",
          "model_module_version": "1.2.0",
          "state": {
            "_model_module": "@jupyter-widgets/base",
            "_model_module_version": "1.2.0",
            "_model_name": "LayoutModel",
            "_view_count": null,
            "_view_module": "@jupyter-widgets/base",
            "_view_module_version": "1.2.0",
            "_view_name": "LayoutView",
            "align_content": null,
            "align_items": null,
            "align_self": null,
            "border": null,
            "bottom": null,
            "display": null,
            "flex": null,
            "flex_flow": null,
            "grid_area": null,
            "grid_auto_columns": null,
            "grid_auto_flow": null,
            "grid_auto_rows": null,
            "grid_column": null,
            "grid_gap": null,
            "grid_row": null,
            "grid_template_areas": null,
            "grid_template_columns": null,
            "grid_template_rows": null,
            "height": null,
            "justify_content": null,
            "justify_items": null,
            "left": null,
            "margin": null,
            "max_height": null,
            "max_width": null,
            "min_height": null,
            "min_width": null,
            "object_fit": null,
            "object_position": null,
            "order": null,
            "overflow": null,
            "overflow_x": null,
            "overflow_y": null,
            "padding": null,
            "right": null,
            "top": null,
            "visibility": null,
            "width": null
          }
        },
        "2a5c75fcb1634497bdcf665c91c6758c": {
          "model_module": "@jupyter-widgets/controls",
          "model_name": "ProgressStyleModel",
          "model_module_version": "1.5.0",
          "state": {
            "_model_module": "@jupyter-widgets/controls",
            "_model_module_version": "1.5.0",
            "_model_name": "ProgressStyleModel",
            "_view_count": null,
            "_view_module": "@jupyter-widgets/base",
            "_view_module_version": "1.2.0",
            "_view_name": "StyleView",
            "bar_color": null,
            "description_width": ""
          }
        },
        "cbd385721b0d4fb1b6d1cd8b517c5a87": {
          "model_module": "@jupyter-widgets/base",
          "model_name": "LayoutModel",
          "model_module_version": "1.2.0",
          "state": {
            "_model_module": "@jupyter-widgets/base",
            "_model_module_version": "1.2.0",
            "_model_name": "LayoutModel",
            "_view_count": null,
            "_view_module": "@jupyter-widgets/base",
            "_view_module_version": "1.2.0",
            "_view_name": "LayoutView",
            "align_content": null,
            "align_items": null,
            "align_self": null,
            "border": null,
            "bottom": null,
            "display": null,
            "flex": null,
            "flex_flow": null,
            "grid_area": null,
            "grid_auto_columns": null,
            "grid_auto_flow": null,
            "grid_auto_rows": null,
            "grid_column": null,
            "grid_gap": null,
            "grid_row": null,
            "grid_template_areas": null,
            "grid_template_columns": null,
            "grid_template_rows": null,
            "height": null,
            "justify_content": null,
            "justify_items": null,
            "left": null,
            "margin": null,
            "max_height": null,
            "max_width": null,
            "min_height": null,
            "min_width": null,
            "object_fit": null,
            "object_position": null,
            "order": null,
            "overflow": null,
            "overflow_x": null,
            "overflow_y": null,
            "padding": null,
            "right": null,
            "top": null,
            "visibility": null,
            "width": null
          }
        },
        "69accb6af89246e597895c68e962ad37": {
          "model_module": "@jupyter-widgets/controls",
          "model_name": "DescriptionStyleModel",
          "model_module_version": "1.5.0",
          "state": {
            "_model_module": "@jupyter-widgets/controls",
            "_model_module_version": "1.5.0",
            "_model_name": "DescriptionStyleModel",
            "_view_count": null,
            "_view_module": "@jupyter-widgets/base",
            "_view_module_version": "1.2.0",
            "_view_name": "StyleView",
            "description_width": ""
          }
        }
      }
    }
  },
  "nbformat": 4,
  "nbformat_minor": 5
}
